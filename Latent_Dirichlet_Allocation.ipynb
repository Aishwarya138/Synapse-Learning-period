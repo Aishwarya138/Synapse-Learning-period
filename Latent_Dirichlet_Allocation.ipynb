{
  "nbformat": 4,
  "nbformat_minor": 0,
  "metadata": {
    "kernelspec": {
      "display_name": "Python 3",
      "language": "python",
      "name": "python3"
    },
    "language_info": {
      "codemirror_mode": {
        "name": "ipython",
        "version": 3
      },
      "file_extension": ".py",
      "mimetype": "text/x-python",
      "name": "python",
      "nbconvert_exporter": "python",
      "pygments_lexer": "ipython3",
      "version": "3.6.12"
    },
    "colab": {
      "name": "Latent_Dirichlet_Allocation.ipynb",
      "provenance": [],
      "collapsed_sections": [
        "pPF6boucMjXV",
        "Tg5Mim0vMjXW"
      ],
      "include_colab_link": true
    }
  },
  "cells": [
    {
      "cell_type": "markdown",
      "metadata": {
        "id": "view-in-github",
        "colab_type": "text"
      },
      "source": [
        "<a href=\"https://colab.research.google.com/github/Aishwarya138/Synapse-Learning-period/blob/NLP-week-2/Latent_Dirichlet_Allocation.ipynb\" target=\"_parent\"><img src=\"https://colab.research.google.com/assets/colab-badge.svg\" alt=\"Open In Colab\"/></a>"
      ]
    },
    {
      "cell_type": "markdown",
      "metadata": {
        "id": "UVnJwW4hMjW2"
      },
      "source": [
        "## Latent Dirichlet Allocation ##\n",
        "**Watch these videos:**\n",
        "- https://www.youtube.com/watch?v=azXCzI57Yfc\n",
        "- https://www.youtube.com/watch?v=T05t-SqKArY\n",
        "- https://www.youtube.com/watch?v=BaM1uiCpj_E\n",
        "\n",
        "LDA is used to classify text in a document to a particular topic. It builds a topic per document model and words per topic model, modeled as Dirichlet distributions. \n",
        "\n",
        "* Each document is modeled as a multinomial distribution of topics and each topic is modeled as a multinomial distribution of words.\n",
        "* LDA assumes that the every chunk of text we feed into it will contain words that are somehow related. Therefore choosing the right corpus of data is crucial. \n",
        "* It also assumes documents are produced from a mixture of topics. Those topics then generate words based on their probability distribution. "
      ]
    },
    {
      "cell_type": "markdown",
      "metadata": {
        "id": "3d10UztRMjW9"
      },
      "source": [
        "## Step 1: Load the dataset\n",
        "\n",
        "The dataset we'll use is a list of over one million news headlines published over a period of 15 years. We'll start by loading it from the `abcnews-date-text.csv` file."
      ]
    },
    {
      "cell_type": "code",
      "metadata": {
        "colab": {
          "base_uri": "https://localhost:8080/"
        },
        "id": "fuUf4GmMM3dX",
        "outputId": "a5c32a2f-8292-4c4d-8786-81bb79e1f595"
      },
      "source": [
        "from google.colab import drive\n",
        "drive.mount('/content/drive')"
      ],
      "execution_count": 1,
      "outputs": [
        {
          "output_type": "stream",
          "name": "stdout",
          "text": [
            "Mounted at /content/drive\n"
          ]
        }
      ]
    },
    {
      "cell_type": "code",
      "metadata": {
        "id": "NQJUn9koNM9u"
      },
      "source": [
        "import pandas as pd\n"
      ],
      "execution_count": 2,
      "outputs": []
    },
    {
      "cell_type": "code",
      "metadata": {
        "id": "C-I4N5p6MjW_"
      },
      "source": [
        "'''\n",
        "Load the dataset from the CSV and save it to 'data_text'. We only need the'headline_text' column,\n",
        "so drop the rest of the columns. Call the final dataframe \"documents\" \n",
        "Then, add an 'index' column to the dataframe. Be sure to name it index.\n",
        "Hint: dataframe.index\n",
        "'''\n",
        "data_text = pd.read_csv(\"/content/drive/MyDrive/week2_nlp/Copy of abcnews-date-text.csv\")\n",
        "\n",
        "documents = data_text.drop(data_text.columns.difference(['headline_text']), axis=1)\n",
        "\n",
        "documents['index'] = documents.index"
      ],
      "execution_count": 4,
      "outputs": []
    },
    {
      "cell_type": "code",
      "metadata": {
        "colab": {
          "base_uri": "https://localhost:8080/",
          "height": 206
        },
        "id": "nrFn6MyIXABl",
        "outputId": "7a721cef-dbc3-4ffb-ea6d-8e2de722b230"
      },
      "source": [
        "documents.head()"
      ],
      "execution_count": 5,
      "outputs": [
        {
          "output_type": "execute_result",
          "data": {
            "text/html": [
              "<div>\n",
              "<style scoped>\n",
              "    .dataframe tbody tr th:only-of-type {\n",
              "        vertical-align: middle;\n",
              "    }\n",
              "\n",
              "    .dataframe tbody tr th {\n",
              "        vertical-align: top;\n",
              "    }\n",
              "\n",
              "    .dataframe thead th {\n",
              "        text-align: right;\n",
              "    }\n",
              "</style>\n",
              "<table border=\"1\" class=\"dataframe\">\n",
              "  <thead>\n",
              "    <tr style=\"text-align: right;\">\n",
              "      <th></th>\n",
              "      <th>headline_text</th>\n",
              "      <th>index</th>\n",
              "    </tr>\n",
              "  </thead>\n",
              "  <tbody>\n",
              "    <tr>\n",
              "      <th>0</th>\n",
              "      <td>aba decides against community broadcasting lic...</td>\n",
              "      <td>0</td>\n",
              "    </tr>\n",
              "    <tr>\n",
              "      <th>1</th>\n",
              "      <td>act fire witnesses must be aware of defamation</td>\n",
              "      <td>1</td>\n",
              "    </tr>\n",
              "    <tr>\n",
              "      <th>2</th>\n",
              "      <td>a g calls for infrastructure protection summit</td>\n",
              "      <td>2</td>\n",
              "    </tr>\n",
              "    <tr>\n",
              "      <th>3</th>\n",
              "      <td>air nz staff in aust strike for pay rise</td>\n",
              "      <td>3</td>\n",
              "    </tr>\n",
              "    <tr>\n",
              "      <th>4</th>\n",
              "      <td>air nz strike to affect australian travellers</td>\n",
              "      <td>4</td>\n",
              "    </tr>\n",
              "  </tbody>\n",
              "</table>\n",
              "</div>"
            ],
            "text/plain": [
              "                                       headline_text  index\n",
              "0  aba decides against community broadcasting lic...      0\n",
              "1     act fire witnesses must be aware of defamation      1\n",
              "2     a g calls for infrastructure protection summit      2\n",
              "3           air nz staff in aust strike for pay rise      3\n",
              "4      air nz strike to affect australian travellers      4"
            ]
          },
          "metadata": {},
          "execution_count": 5
        }
      ]
    },
    {
      "cell_type": "markdown",
      "metadata": {
        "id": "zJKNHUwyMjXB"
      },
      "source": [
        "Let's glance at the dataset:"
      ]
    },
    {
      "cell_type": "code",
      "metadata": {
        "id": "HIP95-byMjXB",
        "colab": {
          "base_uri": "https://localhost:8080/"
        },
        "outputId": "6ec381ff-fb1e-464a-bbef-ac9eaee80eca"
      },
      "source": [
        "'''\n",
        "print the total number of documents\n",
        "'''\n",
        "documents.size"
      ],
      "execution_count": 6,
      "outputs": [
        {
          "output_type": "execute_result",
          "data": {
            "text/plain": [
              "2207330"
            ]
          },
          "metadata": {},
          "execution_count": 6
        }
      ]
    },
    {
      "cell_type": "code",
      "metadata": {
        "id": "z-O7xeQAMjXB",
        "colab": {
          "base_uri": "https://localhost:8080/",
          "height": 206
        },
        "outputId": "bbc2240a-2275-4336-f09c-28d3cef3ef6c"
      },
      "source": [
        "documents[:5]"
      ],
      "execution_count": 7,
      "outputs": [
        {
          "output_type": "execute_result",
          "data": {
            "text/html": [
              "<div>\n",
              "<style scoped>\n",
              "    .dataframe tbody tr th:only-of-type {\n",
              "        vertical-align: middle;\n",
              "    }\n",
              "\n",
              "    .dataframe tbody tr th {\n",
              "        vertical-align: top;\n",
              "    }\n",
              "\n",
              "    .dataframe thead th {\n",
              "        text-align: right;\n",
              "    }\n",
              "</style>\n",
              "<table border=\"1\" class=\"dataframe\">\n",
              "  <thead>\n",
              "    <tr style=\"text-align: right;\">\n",
              "      <th></th>\n",
              "      <th>headline_text</th>\n",
              "      <th>index</th>\n",
              "    </tr>\n",
              "  </thead>\n",
              "  <tbody>\n",
              "    <tr>\n",
              "      <th>0</th>\n",
              "      <td>aba decides against community broadcasting lic...</td>\n",
              "      <td>0</td>\n",
              "    </tr>\n",
              "    <tr>\n",
              "      <th>1</th>\n",
              "      <td>act fire witnesses must be aware of defamation</td>\n",
              "      <td>1</td>\n",
              "    </tr>\n",
              "    <tr>\n",
              "      <th>2</th>\n",
              "      <td>a g calls for infrastructure protection summit</td>\n",
              "      <td>2</td>\n",
              "    </tr>\n",
              "    <tr>\n",
              "      <th>3</th>\n",
              "      <td>air nz staff in aust strike for pay rise</td>\n",
              "      <td>3</td>\n",
              "    </tr>\n",
              "    <tr>\n",
              "      <th>4</th>\n",
              "      <td>air nz strike to affect australian travellers</td>\n",
              "      <td>4</td>\n",
              "    </tr>\n",
              "  </tbody>\n",
              "</table>\n",
              "</div>"
            ],
            "text/plain": [
              "                                       headline_text  index\n",
              "0  aba decides against community broadcasting lic...      0\n",
              "1     act fire witnesses must be aware of defamation      1\n",
              "2     a g calls for infrastructure protection summit      2\n",
              "3           air nz staff in aust strike for pay rise      3\n",
              "4      air nz strike to affect australian travellers      4"
            ]
          },
          "metadata": {},
          "execution_count": 7
        }
      ]
    },
    {
      "cell_type": "markdown",
      "metadata": {
        "id": "7IjrPrCIMjXC"
      },
      "source": [
        "## Step 2: Data Preprocessing ##\n",
        "\n",
        "We will perform the following steps:\n",
        "\n",
        "* **Tokenization**: Split the text into sentences and the sentences into words. Lowercase the words and remove punctuation.\n",
        "* Words that have fewer than 3 characters are removed.\n",
        "* All **stopwords** are removed.\n",
        "* Words are **lemmatized** - words in third person are changed to first person and verbs in past and future tenses are changed into present.\n",
        "* Words are **stemmed** - words are reduced to their root form.\n",
        "\n",
        "This time, we'll make use of the gensim library and show you how  to preprocess text easily. "
      ]
    },
    {
      "cell_type": "code",
      "metadata": {
        "id": "EzSrsSH3MjXC"
      },
      "source": [
        "'''\n",
        "Loading Gensim and nltk libraries\n",
        "'''\n",
        "# pip install gensim\n",
        "import gensim\n",
        "from gensim.utils import simple_preprocess\n",
        "from gensim.parsing.preprocessing import STOPWORDS\n",
        "from nltk.stem import WordNetLemmatizer, SnowballStemmer\n",
        "from nltk.stem.porter import *\n",
        "import numpy as np\n",
        "np.random.seed(400)"
      ],
      "execution_count": 8,
      "outputs": []
    },
    {
      "cell_type": "code",
      "metadata": {
        "id": "fTg9KFNkMjXD",
        "colab": {
          "base_uri": "https://localhost:8080/"
        },
        "outputId": "06d54908-4fc7-4ffc-81b3-6dc65f7d9758"
      },
      "source": [
        "import nltk\n",
        "nltk.download('wordnet')"
      ],
      "execution_count": 9,
      "outputs": [
        {
          "output_type": "stream",
          "name": "stdout",
          "text": [
            "[nltk_data] Downloading package wordnet to /root/nltk_data...\n",
            "[nltk_data]   Unzipping corpora/wordnet.zip.\n"
          ]
        },
        {
          "output_type": "execute_result",
          "data": {
            "text/plain": [
              "True"
            ]
          },
          "metadata": {},
          "execution_count": 9
        }
      ]
    },
    {
      "cell_type": "markdown",
      "metadata": {
        "id": "IS_esGX-MjXE"
      },
      "source": [
        "### Lemmatizer Example\n",
        "Before preprocessing our dataset, let's first look at an lemmatizing example. What would be the output if we lemmatized the word 'went':"
      ]
    },
    {
      "cell_type": "code",
      "metadata": {
        "id": "quAiSOeAMjXF",
        "colab": {
          "base_uri": "https://localhost:8080/"
        },
        "outputId": "f5471606-559d-49c6-a3e6-4cdab4361a97"
      },
      "source": [
        "print(WordNetLemmatizer().lemmatize('went', pos = 'v')) # past tense to present tense"
      ],
      "execution_count": 10,
      "outputs": [
        {
          "output_type": "stream",
          "name": "stdout",
          "text": [
            "go\n"
          ]
        }
      ]
    },
    {
      "cell_type": "markdown",
      "metadata": {
        "id": "tZ5eiE_FMjXF"
      },
      "source": [
        "### Stemmer Example\n",
        "Let's also look at a stemming example. Let's throw a number of words at the stemmer and see how it deals with each one:"
      ]
    },
    {
      "cell_type": "code",
      "metadata": {
        "id": "y9yJxujQMjXG",
        "colab": {
          "base_uri": "https://localhost:8080/",
          "height": 645
        },
        "outputId": "3968e0de-cd50-41a7-d154-4e5af869bfe1"
      },
      "source": [
        "stemmer = SnowballStemmer(\"english\")\n",
        "original_words = ['caresses', 'flies', 'dies', 'mules', 'denied','died', 'agreed', 'owned', \n",
        "           'humbled', 'sized','meeting', 'stating', 'siezing', 'itemization','sensational', \n",
        "           'traditional', 'reference', 'colonizer','plotted']\n",
        "singles = [stemmer.stem(plural) for plural in original_words]\n",
        "\n",
        "pd.DataFrame(data={'original word':original_words, 'stemmed':singles })"
      ],
      "execution_count": 11,
      "outputs": [
        {
          "output_type": "execute_result",
          "data": {
            "text/html": [
              "<div>\n",
              "<style scoped>\n",
              "    .dataframe tbody tr th:only-of-type {\n",
              "        vertical-align: middle;\n",
              "    }\n",
              "\n",
              "    .dataframe tbody tr th {\n",
              "        vertical-align: top;\n",
              "    }\n",
              "\n",
              "    .dataframe thead th {\n",
              "        text-align: right;\n",
              "    }\n",
              "</style>\n",
              "<table border=\"1\" class=\"dataframe\">\n",
              "  <thead>\n",
              "    <tr style=\"text-align: right;\">\n",
              "      <th></th>\n",
              "      <th>original word</th>\n",
              "      <th>stemmed</th>\n",
              "    </tr>\n",
              "  </thead>\n",
              "  <tbody>\n",
              "    <tr>\n",
              "      <th>0</th>\n",
              "      <td>caresses</td>\n",
              "      <td>caress</td>\n",
              "    </tr>\n",
              "    <tr>\n",
              "      <th>1</th>\n",
              "      <td>flies</td>\n",
              "      <td>fli</td>\n",
              "    </tr>\n",
              "    <tr>\n",
              "      <th>2</th>\n",
              "      <td>dies</td>\n",
              "      <td>die</td>\n",
              "    </tr>\n",
              "    <tr>\n",
              "      <th>3</th>\n",
              "      <td>mules</td>\n",
              "      <td>mule</td>\n",
              "    </tr>\n",
              "    <tr>\n",
              "      <th>4</th>\n",
              "      <td>denied</td>\n",
              "      <td>deni</td>\n",
              "    </tr>\n",
              "    <tr>\n",
              "      <th>5</th>\n",
              "      <td>died</td>\n",
              "      <td>die</td>\n",
              "    </tr>\n",
              "    <tr>\n",
              "      <th>6</th>\n",
              "      <td>agreed</td>\n",
              "      <td>agre</td>\n",
              "    </tr>\n",
              "    <tr>\n",
              "      <th>7</th>\n",
              "      <td>owned</td>\n",
              "      <td>own</td>\n",
              "    </tr>\n",
              "    <tr>\n",
              "      <th>8</th>\n",
              "      <td>humbled</td>\n",
              "      <td>humbl</td>\n",
              "    </tr>\n",
              "    <tr>\n",
              "      <th>9</th>\n",
              "      <td>sized</td>\n",
              "      <td>size</td>\n",
              "    </tr>\n",
              "    <tr>\n",
              "      <th>10</th>\n",
              "      <td>meeting</td>\n",
              "      <td>meet</td>\n",
              "    </tr>\n",
              "    <tr>\n",
              "      <th>11</th>\n",
              "      <td>stating</td>\n",
              "      <td>state</td>\n",
              "    </tr>\n",
              "    <tr>\n",
              "      <th>12</th>\n",
              "      <td>siezing</td>\n",
              "      <td>siez</td>\n",
              "    </tr>\n",
              "    <tr>\n",
              "      <th>13</th>\n",
              "      <td>itemization</td>\n",
              "      <td>item</td>\n",
              "    </tr>\n",
              "    <tr>\n",
              "      <th>14</th>\n",
              "      <td>sensational</td>\n",
              "      <td>sensat</td>\n",
              "    </tr>\n",
              "    <tr>\n",
              "      <th>15</th>\n",
              "      <td>traditional</td>\n",
              "      <td>tradit</td>\n",
              "    </tr>\n",
              "    <tr>\n",
              "      <th>16</th>\n",
              "      <td>reference</td>\n",
              "      <td>refer</td>\n",
              "    </tr>\n",
              "    <tr>\n",
              "      <th>17</th>\n",
              "      <td>colonizer</td>\n",
              "      <td>colon</td>\n",
              "    </tr>\n",
              "    <tr>\n",
              "      <th>18</th>\n",
              "      <td>plotted</td>\n",
              "      <td>plot</td>\n",
              "    </tr>\n",
              "  </tbody>\n",
              "</table>\n",
              "</div>"
            ],
            "text/plain": [
              "   original word stemmed\n",
              "0       caresses  caress\n",
              "1          flies     fli\n",
              "2           dies     die\n",
              "3          mules    mule\n",
              "4         denied    deni\n",
              "5           died     die\n",
              "6         agreed    agre\n",
              "7          owned     own\n",
              "8        humbled   humbl\n",
              "9          sized    size\n",
              "10       meeting    meet\n",
              "11       stating   state\n",
              "12       siezing    siez\n",
              "13   itemization    item\n",
              "14   sensational  sensat\n",
              "15   traditional  tradit\n",
              "16     reference   refer\n",
              "17     colonizer   colon\n",
              "18       plotted    plot"
            ]
          },
          "metadata": {},
          "execution_count": 11
        }
      ]
    },
    {
      "cell_type": "code",
      "metadata": {
        "id": "Fxoo94cnMjXH"
      },
      "source": [
        "'''\n",
        "Write a function to perform the pre processing steps on the entire dataset\n",
        "'''\n",
        "def lemmatize_stemming(text):\n",
        "    '''\n",
        "        1) Lemmatize the text\n",
        "        2) Then, stem the text\n",
        "        3) return final text\n",
        "    '''\n",
        "\n",
        "    lemmitized_text = WordNetLemmatizer().lemmatize(text)\n",
        "    stemmed_text = stemmer.stem(lemmitized_text)\n",
        "\n",
        "    return stemmed_text\n",
        "\n",
        "\n",
        "\n",
        "# Tokenize and lemmatize. Look up how preprocessing is being done\n",
        "def preprocess(text):\n",
        "    result=[]\n",
        "    for token in gensim.utils.simple_preprocess(text) :\n",
        "        if token not in gensim.parsing.preprocessing.STOPWORDS and len(token) > 3:\n",
        "            \n",
        "            # TODO: Apply lemmatize_stemming on the token, then add to the results list\n",
        "            result.append(lemmatize_stemming(token))\n",
        "        \n",
        "        \n",
        "    return result"
      ],
      "execution_count": 12,
      "outputs": []
    },
    {
      "cell_type": "code",
      "metadata": {
        "id": "HgrUM6kNMjXI",
        "colab": {
          "base_uri": "https://localhost:8080/"
        },
        "outputId": "ae9fcc50-ca9d-44fd-ad53-00be05f2049e"
      },
      "source": [
        "'''\n",
        "Preview a document after preprocessing\n",
        "'''\n",
        "document_num = 4310\n",
        "doc_sample = documents[documents['index'] == document_num].values[0][0]\n",
        "\n",
        "print(\"Original document: \")\n",
        "words = []\n",
        "for word in doc_sample.split(' '):\n",
        "    words.append(word)\n",
        "print(words)\n",
        "print(\"\\n\\nTokenized and lemmatized document: \")\n",
        "print(preprocess(doc_sample))"
      ],
      "execution_count": 13,
      "outputs": [
        {
          "output_type": "stream",
          "name": "stdout",
          "text": [
            "Original document: \n",
            "['rain', 'helps', 'dampen', 'bushfires']\n",
            "\n",
            "\n",
            "Tokenized and lemmatized document: \n",
            "['rain', 'help', 'dampen', 'bushfir']\n"
          ]
        }
      ]
    },
    {
      "cell_type": "markdown",
      "metadata": {
        "id": "CoH3gJFIMjXJ"
      },
      "source": [
        "Let's now preprocess all the news headlines we have. To do that, let's use the [map](https://pandas.pydata.org/pandas-docs/stable/generated/pandas.Series.map.html) function from pandas to apply `preprocess()` to the `headline_text` column\n",
        "\n",
        "**Note**: This may take a few minutes"
      ]
    },
    {
      "cell_type": "code",
      "metadata": {
        "id": "sM7n9dV9MjXJ"
      },
      "source": [
        "# TODO: preprocess all the headlines, saving the list of results as 'processed_docs'\n",
        "processed_docs = documents['headline_text'].map(preprocess)"
      ],
      "execution_count": 14,
      "outputs": []
    },
    {
      "cell_type": "code",
      "metadata": {
        "id": "kvKCWHxmMjXK",
        "colab": {
          "base_uri": "https://localhost:8080/"
        },
        "outputId": "6531a022-2acf-43b1-80c0-67cb4a068416"
      },
      "source": [
        "'''\n",
        "Preview 'processed_docs'\n",
        "'''\n",
        "processed_docs[:10]"
      ],
      "execution_count": 15,
      "outputs": [
        {
          "output_type": "execute_result",
          "data": {
            "text/plain": [
              "0            [decid, communiti, broadcast, licenc]\n",
              "1                               [wit, awar, defam]\n",
              "2           [call, infrastructur, protect, summit]\n",
              "3                      [staff, aust, strike, rise]\n",
              "4             [strike, affect, australian, travel]\n",
              "5               [ambiti, olsson, win, tripl, jump]\n",
              "6           [antic, delight, record, break, barca]\n",
              "7    [aussi, qualifi, stosur, wast, memphi, match]\n",
              "8            [aust, address, secur, council, iraq]\n",
              "9                         [australia, lock, timet]\n",
              "Name: headline_text, dtype: object"
            ]
          },
          "metadata": {},
          "execution_count": 15
        }
      ]
    },
    {
      "cell_type": "markdown",
      "metadata": {
        "id": "sRvCITe7MjXK"
      },
      "source": [
        "## Step 3.1: Bag of words on the dataset\n",
        "\n",
        "Now let's create a dictionary from 'processed_docs' containing the number of times a word appears in the training set. To do that, let's pass `processed_docs` to [`gensim.corpora.Dictionary()`](https://radimrehurek.com/gensim/corpora/dictionary.html) and call it '`dictionary`'."
      ]
    },
    {
      "cell_type": "code",
      "metadata": {
        "id": "mctiozQPMjXL"
      },
      "source": [
        "'''\n",
        "Create a dictionary from 'processed_docs' containing the number of times a word appears \n",
        "in the training set using gensim.corpora.Dictionary and call it 'dictionary'\n",
        "'''\n",
        "#  Todo\n",
        "dictionary = gensim.corpora.Dictionary(processed_docs)"
      ],
      "execution_count": 16,
      "outputs": []
    },
    {
      "cell_type": "code",
      "metadata": {
        "id": "qW5cxehnMjXM",
        "colab": {
          "base_uri": "https://localhost:8080/"
        },
        "outputId": "e86f8dbb-2f20-4edf-cab4-453a6979acf6"
      },
      "source": [
        "'''\n",
        "Checking dictionary created\n",
        "'''\n",
        "count = 0\n",
        "for k, v in dictionary.iteritems():\n",
        "    print(k, v)\n",
        "    count += 1\n",
        "    if count > 10:\n",
        "        break"
      ],
      "execution_count": 17,
      "outputs": [
        {
          "output_type": "stream",
          "name": "stdout",
          "text": [
            "0 broadcast\n",
            "1 communiti\n",
            "2 decid\n",
            "3 licenc\n",
            "4 awar\n",
            "5 defam\n",
            "6 wit\n",
            "7 call\n",
            "8 infrastructur\n",
            "9 protect\n",
            "10 summit\n"
          ]
        }
      ]
    },
    {
      "cell_type": "markdown",
      "metadata": {
        "id": "6-VMrmZ8MjXM"
      },
      "source": [
        "** Gensim filter_extremes **\n",
        "\n",
        "[`filter_extremes(no_below=5, no_above=0.5, keep_n=100000)`](https://radimrehurek.com/gensim/corpora/dictionary.html#gensim.corpora.dictionary.Dictionary.filter_extremes)\n",
        "\n",
        "Filter out tokens that appear in\n",
        "\n",
        "* less than no_below documents (absolute number) or\n",
        "* more than no_above documents (fraction of total corpus size, not absolute number).\n",
        "* after (1) and (2), keep only the first keep_n most frequent tokens (or keep all if None)."
      ]
    },
    {
      "cell_type": "code",
      "metadata": {
        "id": "vcsKW9wnMjXN"
      },
      "source": [
        "'''\n",
        "Remove very rare and very common words:\n",
        "\n",
        "- words appearing less than 15 times\n",
        "- words appearing in more than 10% of all documents\n",
        "- keep 100000 most frequent tokens\n",
        "'''\n",
        "# TODO: apply dictionary.filter_extremes() with the parameters mentioned above\n",
        "dictionary.filter_extremes(no_below=15, no_above=0.1, keep_n=100000)"
      ],
      "execution_count": 18,
      "outputs": []
    },
    {
      "cell_type": "markdown",
      "metadata": {
        "id": "4a9fRZLHMjXP"
      },
      "source": [
        "** Gensim doc2bow **\n",
        "\n",
        "[`doc2bow(document)`](https://radimrehurek.com/gensim/corpora/dictionary.html#gensim.corpora.dictionary.Dictionary.doc2bow)\n",
        "\n",
        "* Convert document (a list of words) into the bag-of-words format = list of (token_id, token_count) 2-tuples. Each word is assumed to be a tokenized and normalized string (either unicode or utf8-encoded). No further preprocessing is done on the words in document; apply tokenization, stemming etc. before calling this method."
      ]
    },
    {
      "cell_type": "code",
      "metadata": {
        "id": "JzR093HMMjXP"
      },
      "source": [
        "'''\n",
        "Create the Bag-of-words model for each document i.e for each document we create a dictionary reporting how many\n",
        "words and how many times those words appear. Save this to 'bow_corpus'.\n",
        "Hint: Since we want a BoW model for each document, you can use list comprehension instead of for loops. List\n",
        "comprehension is the more pythonic way.\n",
        "'''\n",
        "#  Todo:\n",
        "bow_corpus = [dictionary.doc2bow(document) for document in processed_docs]"
      ],
      "execution_count": 19,
      "outputs": []
    },
    {
      "cell_type": "code",
      "metadata": {
        "id": "9WwkXV2BMjXQ",
        "colab": {
          "base_uri": "https://localhost:8080/"
        },
        "outputId": "1b4bee39-8bb3-40aa-fd5b-c0ec27b921bc"
      },
      "source": [
        "'''\n",
        "Checking Bag of Words corpus for our sample document --> (token_id, token_count)\n",
        "'''\n",
        "bow_corpus[document_num]"
      ],
      "execution_count": 20,
      "outputs": [
        {
          "output_type": "execute_result",
          "data": {
            "text/plain": [
              "[(76, 1), (112, 1), (486, 1), (4041, 1)]"
            ]
          },
          "metadata": {},
          "execution_count": 20
        }
      ]
    },
    {
      "cell_type": "code",
      "metadata": {
        "id": "0IaF-DGPMjXQ",
        "colab": {
          "base_uri": "https://localhost:8080/"
        },
        "outputId": "3c795e54-76ec-44a3-8cfd-7758d904f639"
      },
      "source": [
        "'''\n",
        "Preview BOW for our sample preprocessed document\n",
        "'''\n",
        "# Here document_num is document number 4310 which we have checked in Step 2\n",
        "bow_doc_4310 = bow_corpus[document_num]\n",
        "\n",
        "for i in range(len(bow_doc_4310)):\n",
        "    print(\"Word {} (\\\"{}\\\") appears {} time.\".format(bow_doc_4310[i][0], \n",
        "                                                     dictionary[bow_doc_4310[i][0]], \n",
        "                                                     bow_doc_4310[i][1]))"
      ],
      "execution_count": 21,
      "outputs": [
        {
          "output_type": "stream",
          "name": "stdout",
          "text": [
            "Word 76 (\"bushfir\") appears 1 time.\n",
            "Word 112 (\"help\") appears 1 time.\n",
            "Word 486 (\"rain\") appears 1 time.\n",
            "Word 4041 (\"dampen\") appears 1 time.\n"
          ]
        }
      ]
    },
    {
      "cell_type": "markdown",
      "metadata": {
        "id": "r_uBQJ2-MjXR"
      },
      "source": [
        "## Step 3.2: TF-IDF on our document set ##\n",
        "\n",
        "While performing TF-IDF on the corpus is not necessary for LDA implemention using the gensim model, it is recemmended. TF-IDF expects a bag-of-words (integer values) training corpus during initialization. During transformation, it will take a vector and return another vector of the same dimensionality.\n",
        "\n",
        "*Please note: The author of Gensim dictates the standard procedure for LDA to be using the Bag of Words model.*"
      ]
    },
    {
      "cell_type": "markdown",
      "metadata": {
        "id": "PtDRfmiTMjXR"
      },
      "source": [
        "** TF-IDF stands for \"Term Frequency, Inverse Document Frequency\".**\n",
        "\n",
        "* It is a way to score the importance of words (or \"terms\") in a document based on how frequently they appear across multiple documents.\n",
        "* If a word appears frequently in a document, it's important. Give the word a high score. But if a word appears in many documents, it's not a unique identifier. Give the word a low score.\n",
        "* Therefore, common words like \"the\" and \"for\", which appear in many documents, will be scaled down. Words that appear frequently in a single document will be scaled up.\n",
        "\n",
        "In other words:\n",
        "\n",
        "* TF(w) = `(Number of times term w appears in a document) / (Total number of terms in the document)`.\n",
        "* IDF(w) = `log_e(Total number of documents / Number of documents with term w in it)`.\n",
        "\n",
        "** For example **\n",
        "\n",
        "* Consider a document containing `100` words wherein the word 'tiger' appears 3 times. \n",
        "* The term frequency (i.e., tf) for 'tiger' is then: \n",
        "    - `TF = (3 / 100) = 0.03`. \n",
        "\n",
        "* Now, assume we have `10 million` documents and the word 'tiger' appears in `1000` of these. Then, the inverse document frequency (i.e., idf) is calculated as:\n",
        "    - `IDF = log(10,000,000 / 1,000) = 4`. \n",
        "\n",
        "* Thus, the Tf-idf weight is the product of these quantities: \n",
        "    - `TF-IDF = 0.03 * 4 = 0.12`."
      ]
    },
    {
      "cell_type": "code",
      "metadata": {
        "id": "cRaBHzjHMjXS"
      },
      "source": [
        "'''\n",
        "Create tf-idf model object using models.TfidfModel on 'bow_corpus' and save it to 'tfidf'\n",
        "'''\n",
        "from gensim import corpora, models\n",
        "# TODO\n",
        "tfidf = models.TfidfModel(bow_corpus)"
      ],
      "execution_count": 22,
      "outputs": []
    },
    {
      "cell_type": "code",
      "metadata": {
        "id": "jsBB84fuMjXS"
      },
      "source": [
        "'''\n",
        "Apply transformation to the entire corpus and call it 'corpus_tfidf'\n",
        "'''\n",
        "# TODO\n",
        "corpus_tfidf = tfidf[bow_corpus]"
      ],
      "execution_count": 23,
      "outputs": []
    },
    {
      "cell_type": "code",
      "metadata": {
        "id": "L1CY6zBVMjXT",
        "colab": {
          "base_uri": "https://localhost:8080/"
        },
        "outputId": "5e7c59dd-8c96-4cc5-d26b-0ae20e40d6d4"
      },
      "source": [
        "'''\n",
        "Preview TF-IDF scores for our first document --> --> (token_id, tfidf score)\n",
        "'''\n",
        "from pprint import pprint\n",
        "for doc in corpus_tfidf:\n",
        "    pprint(doc)\n",
        "    break"
      ],
      "execution_count": 24,
      "outputs": [
        {
          "output_type": "stream",
          "name": "stdout",
          "text": [
            "[(0, 0.589272278034924),\n",
            " (1, 0.3892842954875021),\n",
            " (2, 0.49648286011932197),\n",
            " (3, 0.5046986122767408)]\n"
          ]
        }
      ]
    },
    {
      "cell_type": "markdown",
      "metadata": {
        "id": "4qiJqgoRMjXT"
      },
      "source": [
        "## Step 4.1: Running LDA using Bag of Words ##\n",
        "\n",
        "We are going for 10 topics in the document corpus.\n",
        "\n",
        "** We will be running LDA using all CPU cores to parallelize and speed up model training.**\n",
        "\n",
        "Some of the parameters we will be tweaking are:\n",
        "\n",
        "* **num_topics** is the number of requested latent topics to be extracted from the training corpus.\n",
        "* **id2word** is a mapping from word ids (integers) to words (strings). It is used to determine the vocabulary size, as well as for debugging and topic printing.\n",
        "* **workers** is the number of extra processes to use for parallelization. Uses all available cores by default.\n",
        "* **alpha** and **eta** are hyperparameters that affect sparsity of the document-topic (theta) and topic-word (lambda) distributions. We will let these be the default values for now(default value is `1/num_topics`)\n",
        "    - Alpha is the per document topic distribution.\n",
        "        * High alpha: Every document has a mixture of all topics(documents appear similar to each other).\n",
        "        * Low alpha: Every document has a mixture of very few topics\n",
        "\n",
        "    - Eta is the per topic word distribution.\n",
        "        * High eta: Each topic has a mixture of most words(topics appear similar to each other).\n",
        "        * Low eta: Each topic has a mixture of few words.\n",
        "\n",
        "* ** passes ** is the number of training passes through the corpus. For  example, if the training corpus has 50,000 documents, chunksize is  10,000, passes is 2, then online training is done in 10 updates: \n",
        "    * `#1 documents 0-9,999 `\n",
        "    * `#2 documents 10,000-19,999 `\n",
        "    * `#3 documents 20,000-29,999 `\n",
        "    * `#4 documents 30,000-39,999 `\n",
        "    * `#5 documents 40,000-49,999 `\n",
        "    * `#6 documents 0-9,999 `\n",
        "    * `#7 documents 10,000-19,999 `\n",
        "    * `#8 documents 20,000-29,999 `\n",
        "    * `#9 documents 30,000-39,999 `\n",
        "    * `#10 documents 40,000-49,999` "
      ]
    },
    {
      "cell_type": "code",
      "metadata": {
        "id": "wSFhYhEeMjXU"
      },
      "source": [
        "# LDA multicore \n",
        "'''\n",
        "Train your lda model using gensim.models.LdaMulticore and save it to 'lda_model'\n",
        "\n",
        "If Multicore is throwing errors on you laptop, use LDA mono-core, gensim.models.LdaModel\n",
        "'''\n",
        "# TODO\n",
        "lda_model = gensim.models.LdaMulticore(bow_corpus,  id2word=dictionary, num_topics=10)"
      ],
      "execution_count": 26,
      "outputs": []
    },
    {
      "cell_type": "code",
      "metadata": {
        "id": "YkERlbs0MjXU",
        "colab": {
          "base_uri": "https://localhost:8080/"
        },
        "outputId": "4760ba83-f9c3-4c10-b1dd-49c3ecce0967"
      },
      "source": [
        "'''\n",
        "For each topic, we will explore the words occuring in that topic and its relative weight\n",
        "'''\n",
        "for idx, topic in lda_model.print_topics(-1):\n",
        "    print(\"Topic: {} \\nWords: {}\".format(idx, topic))\n",
        "    print(\"\\n\")"
      ],
      "execution_count": 27,
      "outputs": [
        {
          "output_type": "stream",
          "name": "stdout",
          "text": [
            "Topic: 0 \n",
            "Words: 0.035*\"australian\" + 0.026*\"world\" + 0.022*\"south\" + 0.020*\"test\" + 0.019*\"north\" + 0.019*\"help\" + 0.013*\"west\" + 0.012*\"final\" + 0.012*\"korea\" + 0.010*\"win\"\n",
            "\n",
            "\n",
            "Topic: 1 \n",
            "Words: 0.057*\"australia\" + 0.046*\"trump\" + 0.029*\"elect\" + 0.020*\"school\" + 0.015*\"tasmanian\" + 0.012*\"open\" + 0.012*\"student\" + 0.011*\"countri\" + 0.011*\"protest\" + 0.011*\"street\"\n",
            "\n",
            "\n",
            "Topic: 2 \n",
            "Words: 0.032*\"queensland\" + 0.018*\"state\" + 0.018*\"market\" + 0.014*\"deal\" + 0.014*\"price\" + 0.013*\"rise\" + 0.013*\"bank\" + 0.013*\"need\" + 0.012*\"share\" + 0.012*\"say\"\n",
            "\n",
            "\n",
            "Topic: 3 \n",
            "Words: 0.019*\"murder\" + 0.019*\"death\" + 0.016*\"china\" + 0.013*\"famili\" + 0.013*\"nation\" + 0.013*\"marriag\" + 0.012*\"abus\" + 0.012*\"concern\" + 0.011*\"guilti\" + 0.011*\"park\"\n",
            "\n",
            "\n",
            "Topic: 4 \n",
            "Words: 0.040*\"polic\" + 0.022*\"canberra\" + 0.020*\"adelaid\" + 0.016*\"drug\" + 0.015*\"arrest\" + 0.012*\"assault\" + 0.011*\"darwin\" + 0.010*\"offic\" + 0.010*\"news\" + 0.009*\"bodi\"\n",
            "\n",
            "\n",
            "Topic: 5 \n",
            "Words: 0.021*\"perth\" + 0.017*\"turnbul\" + 0.015*\"high\" + 0.012*\"show\" + 0.011*\"week\" + 0.011*\"royal\" + 0.010*\"john\" + 0.010*\"liber\" + 0.010*\"record\" + 0.010*\"victorian\"\n",
            "\n",
            "\n",
            "Topic: 6 \n",
            "Words: 0.035*\"court\" + 0.031*\"attack\" + 0.022*\"face\" + 0.017*\"child\" + 0.017*\"peopl\" + 0.017*\"kill\" + 0.014*\"claim\" + 0.013*\"citi\" + 0.013*\"charg\" + 0.013*\"alleg\"\n",
            "\n",
            "\n",
            "Topic: 7 \n",
            "Words: 0.039*\"woman\" + 0.031*\"govern\" + 0.028*\"year\" + 0.019*\"crash\" + 0.016*\"life\" + 0.016*\"jail\" + 0.015*\"miss\" + 0.014*\"tasmania\" + 0.014*\"dy\" + 0.012*\"victoria\"\n",
            "\n",
            "\n",
            "Topic: 8 \n",
            "Words: 0.033*\"sydney\" + 0.027*\"melbourn\" + 0.020*\"home\" + 0.016*\"polic\" + 0.015*\"live\" + 0.013*\"interview\" + 0.012*\"investig\" + 0.011*\"shoot\" + 0.011*\"vote\" + 0.010*\"brisban\"\n",
            "\n",
            "\n",
            "Topic: 9 \n",
            "Words: 0.018*\"donald\" + 0.017*\"plan\" + 0.016*\"coast\" + 0.014*\"hous\" + 0.013*\"power\" + 0.013*\"health\" + 0.012*\"labor\" + 0.012*\"indigen\" + 0.012*\"chang\" + 0.012*\"fund\"\n",
            "\n",
            "\n"
          ]
        }
      ]
    },
    {
      "cell_type": "markdown",
      "metadata": {
        "id": "pPF6boucMjXV"
      },
      "source": [
        "### Classification of the topics ###\n",
        "\n",
        "Using the words in each topic and their corresponding weights, what categories were you able to infer?\n",
        "\n",
        "* 0: \n",
        "* 1: \n",
        "* 2: \n",
        "* 3: \n",
        "* 4: \n",
        "* 5: \n",
        "* 6: \n",
        "* 7:  \n",
        "* 8: \n",
        "* 9: "
      ]
    },
    {
      "cell_type": "markdown",
      "metadata": {
        "id": "C0PghCfvMjXV"
      },
      "source": [
        "## Step 4.2 Running LDA using TF-IDF ##"
      ]
    },
    {
      "cell_type": "code",
      "metadata": {
        "id": "2sKc_8wlMjXW"
      },
      "source": [
        "'''\n",
        "Define lda model using corpus_tfidf\n",
        "'''\n",
        "# TODO\n",
        "lda_model_tfidf = gensim.models.LdaMulticore(corpus_tfidf,  id2word=dictionary, num_topics=10)"
      ],
      "execution_count": 28,
      "outputs": []
    },
    {
      "cell_type": "code",
      "metadata": {
        "id": "YXlsjj5MMjXW",
        "colab": {
          "base_uri": "https://localhost:8080/"
        },
        "outputId": "c24eebfb-ec10-448a-b5f6-7e8484a7ed16"
      },
      "source": [
        "'''\n",
        "For each topic, we will explore the words occuring in that topic and its relative weight\n",
        "'''\n",
        "for idx, topic in lda_model_tfidf.print_topics(-1):\n",
        "    print(\"Topic: {} Word: {}\".format(idx, topic))\n",
        "    print(\"\\n\")"
      ],
      "execution_count": 29,
      "outputs": [
        {
          "output_type": "stream",
          "name": "stdout",
          "text": [
            "Topic: 0 Word: 0.011*\"perth\" + 0.009*\"john\" + 0.008*\"australia\" + 0.008*\"search\" + 0.008*\"ash\" + 0.007*\"world\" + 0.007*\"cricket\" + 0.007*\"mark\" + 0.007*\"weather\" + 0.006*\"adelaid\"\n",
            "\n",
            "\n",
            "Topic: 1 Word: 0.015*\"marriag\" + 0.015*\"drum\" + 0.011*\"news\" + 0.010*\"liber\" + 0.006*\"budget\" + 0.006*\"inquest\" + 0.006*\"suicid\" + 0.005*\"curious\" + 0.005*\"septemb\" + 0.005*\"rememb\"\n",
            "\n",
            "\n",
            "Topic: 2 Word: 0.042*\"trump\" + 0.011*\"crash\" + 0.011*\"street\" + 0.009*\"tasmania\" + 0.008*\"wall\" + 0.008*\"mother\" + 0.007*\"girl\" + 0.007*\"fatal\" + 0.006*\"scorecentr\" + 0.006*\"olymp\"\n",
            "\n",
            "\n",
            "Topic: 3 Word: 0.011*\"hobart\" + 0.009*\"video\" + 0.009*\"stori\" + 0.008*\"shark\" + 0.008*\"violenc\" + 0.007*\"come\" + 0.007*\"domest\" + 0.007*\"plead\" + 0.007*\"guilti\" + 0.007*\"explain\"\n",
            "\n",
            "\n",
            "Topic: 4 Word: 0.016*\"govern\" + 0.013*\"live\" + 0.010*\"korea\" + 0.010*\"interview\" + 0.009*\"christma\" + 0.008*\"aborigin\" + 0.008*\"north\" + 0.007*\"western\" + 0.006*\"mental\" + 0.006*\"island\"\n",
            "\n",
            "\n",
            "Topic: 5 Word: 0.018*\"queensland\" + 0.011*\"market\" + 0.009*\"share\" + 0.009*\"victorian\" + 0.009*\"australian\" + 0.008*\"victoria\" + 0.008*\"dollar\" + 0.007*\"million\" + 0.007*\"rate\" + 0.007*\"rise\"\n",
            "\n",
            "\n",
            "Topic: 6 Word: 0.019*\"donald\" + 0.017*\"south\" + 0.014*\"canberra\" + 0.014*\"tasmanian\" + 0.010*\"malcolm\" + 0.010*\"coast\" + 0.008*\"gold\" + 0.008*\"australia\" + 0.007*\"sport\" + 0.007*\"west\"\n",
            "\n",
            "\n",
            "Topic: 7 Word: 0.012*\"countri\" + 0.010*\"rural\" + 0.009*\"hour\" + 0.009*\"energi\" + 0.007*\"quiz\" + 0.007*\"nation\" + 0.006*\"citizenship\" + 0.006*\"indigen\" + 0.006*\"parent\" + 0.006*\"great\"\n",
            "\n",
            "\n",
            "Topic: 8 Word: 0.015*\"charg\" + 0.015*\"murder\" + 0.014*\"turnbul\" + 0.014*\"alleg\" + 0.014*\"polic\" + 0.011*\"court\" + 0.011*\"child\" + 0.010*\"woman\" + 0.010*\"arrest\" + 0.010*\"royal\"\n",
            "\n",
            "\n",
            "Topic: 9 Word: 0.012*\"elect\" + 0.008*\"parliament\" + 0.007*\"senat\" + 0.007*\"right\" + 0.007*\"say\" + 0.006*\"david\" + 0.006*\"parti\" + 0.006*\"refuge\" + 0.006*\"syria\" + 0.006*\"post\"\n",
            "\n",
            "\n"
          ]
        }
      ]
    },
    {
      "cell_type": "markdown",
      "metadata": {
        "id": "Tg5Mim0vMjXW"
      },
      "source": [
        "### Classification of the topics ###\n",
        "\n",
        "As we can see, when using tf-idf, heavier weights are given to words that are not as frequent which results in nouns being factored in. That makes it harder to figure out the categories as nouns can be hard to categorize. This goes to show that the models we apply depend on the type of corpus of text we are dealing with. \n",
        "\n",
        "Using the words in each topic and their corresponding weights, what categories could you find?\n",
        "\n",
        "* 0: \n",
        "* 1:  \n",
        "* 2: \n",
        "* 3: \n",
        "* 4:  \n",
        "* 5: \n",
        "* 6: \n",
        "* 7: \n",
        "* 8: \n",
        "* 9: "
      ]
    },
    {
      "cell_type": "markdown",
      "metadata": {
        "id": "GEbgK8joMjXX"
      },
      "source": [
        "## Step 5.1: Performance evaluation by classifying sample document using LDA Bag of Words model\n",
        "\n",
        "We will check to see where our test document would be classified. "
      ]
    },
    {
      "cell_type": "code",
      "metadata": {
        "id": "AcC_T13aMjXX",
        "colab": {
          "base_uri": "https://localhost:8080/"
        },
        "outputId": "876deae8-e5b8-4108-8c62-40514ffc2f9f"
      },
      "source": [
        "'''\n",
        "Text of sample document 4310\n",
        "'''\n",
        "processed_docs[4310]"
      ],
      "execution_count": 30,
      "outputs": [
        {
          "output_type": "execute_result",
          "data": {
            "text/plain": [
              "['rain', 'help', 'dampen', 'bushfir']"
            ]
          },
          "metadata": {},
          "execution_count": 30
        }
      ]
    },
    {
      "cell_type": "code",
      "metadata": {
        "id": "vMG54reMMjXY",
        "colab": {
          "base_uri": "https://localhost:8080/"
        },
        "outputId": "1f0a9545-d2b6-4b95-ebd1-03333e555692"
      },
      "source": [
        "'''\n",
        "Check which topic our test document belongs to using the LDA Bag of Words model.\n",
        "'''\n",
        "\n",
        "# Our test document is document number 4310\n",
        "for index, score in sorted(lda_model[bow_corpus[document_num]], key=lambda tup: -1*tup[1]):\n",
        "    print(\"\\nScore: {}\\t \\nTopic: {}\".format(score, lda_model.print_topic(index, 10)))"
      ],
      "execution_count": 31,
      "outputs": [
        {
          "output_type": "stream",
          "name": "stdout",
          "text": [
            "\n",
            "Score: 0.4200001657009125\t \n",
            "Topic: 0.035*\"australian\" + 0.026*\"world\" + 0.022*\"south\" + 0.020*\"test\" + 0.019*\"north\" + 0.019*\"help\" + 0.013*\"west\" + 0.012*\"final\" + 0.012*\"korea\" + 0.010*\"win\"\n",
            "\n",
            "Score: 0.22000010311603546\t \n",
            "Topic: 0.040*\"polic\" + 0.022*\"canberra\" + 0.020*\"adelaid\" + 0.016*\"drug\" + 0.015*\"arrest\" + 0.012*\"assault\" + 0.011*\"darwin\" + 0.010*\"offic\" + 0.010*\"news\" + 0.009*\"bodi\"\n",
            "\n",
            "Score: 0.2199997454881668\t \n",
            "Topic: 0.021*\"perth\" + 0.017*\"turnbul\" + 0.015*\"high\" + 0.012*\"show\" + 0.011*\"week\" + 0.011*\"royal\" + 0.010*\"john\" + 0.010*\"liber\" + 0.010*\"record\" + 0.010*\"victorian\"\n",
            "\n",
            "Score: 0.019999999552965164\t \n",
            "Topic: 0.057*\"australia\" + 0.046*\"trump\" + 0.029*\"elect\" + 0.020*\"school\" + 0.015*\"tasmanian\" + 0.012*\"open\" + 0.012*\"student\" + 0.011*\"countri\" + 0.011*\"protest\" + 0.011*\"street\"\n",
            "\n",
            "Score: 0.019999999552965164\t \n",
            "Topic: 0.032*\"queensland\" + 0.018*\"state\" + 0.018*\"market\" + 0.014*\"deal\" + 0.014*\"price\" + 0.013*\"rise\" + 0.013*\"bank\" + 0.013*\"need\" + 0.012*\"share\" + 0.012*\"say\"\n",
            "\n",
            "Score: 0.019999999552965164\t \n",
            "Topic: 0.019*\"murder\" + 0.019*\"death\" + 0.016*\"china\" + 0.013*\"famili\" + 0.013*\"nation\" + 0.013*\"marriag\" + 0.012*\"abus\" + 0.012*\"concern\" + 0.011*\"guilti\" + 0.011*\"park\"\n",
            "\n",
            "Score: 0.019999999552965164\t \n",
            "Topic: 0.035*\"court\" + 0.031*\"attack\" + 0.022*\"face\" + 0.017*\"child\" + 0.017*\"peopl\" + 0.017*\"kill\" + 0.014*\"claim\" + 0.013*\"citi\" + 0.013*\"charg\" + 0.013*\"alleg\"\n",
            "\n",
            "Score: 0.019999999552965164\t \n",
            "Topic: 0.039*\"woman\" + 0.031*\"govern\" + 0.028*\"year\" + 0.019*\"crash\" + 0.016*\"life\" + 0.016*\"jail\" + 0.015*\"miss\" + 0.014*\"tasmania\" + 0.014*\"dy\" + 0.012*\"victoria\"\n",
            "\n",
            "Score: 0.019999999552965164\t \n",
            "Topic: 0.033*\"sydney\" + 0.027*\"melbourn\" + 0.020*\"home\" + 0.016*\"polic\" + 0.015*\"live\" + 0.013*\"interview\" + 0.012*\"investig\" + 0.011*\"shoot\" + 0.011*\"vote\" + 0.010*\"brisban\"\n",
            "\n",
            "Score: 0.019999999552965164\t \n",
            "Topic: 0.018*\"donald\" + 0.017*\"plan\" + 0.016*\"coast\" + 0.014*\"hous\" + 0.013*\"power\" + 0.013*\"health\" + 0.012*\"labor\" + 0.012*\"indigen\" + 0.012*\"chang\" + 0.012*\"fund\"\n"
          ]
        }
      ]
    },
    {
      "cell_type": "markdown",
      "metadata": {
        "id": "K288L5-bMjXY"
      },
      "source": [
        "## Step 5.2: Performance evaluation by classifying sample document using LDA TF-IDF model"
      ]
    },
    {
      "cell_type": "code",
      "metadata": {
        "id": "T8hd6ZPRMjXZ",
        "colab": {
          "base_uri": "https://localhost:8080/"
        },
        "outputId": "698aaec9-19eb-41ae-e414-102e10b2890e"
      },
      "source": [
        "'''\n",
        "Check which topic our test document belongs to using the LDA TF-IDF model.\n",
        "Code would be similar to above\n",
        "'''\n",
        "# Todo\n",
        "for index, score in sorted(lda_model_tfidf[bow_corpus[document_num]], key=lambda tup: -1*tup[1]):\n",
        "    print(\"\\nScore: {}\\t \\nTopic: {}\".format(score, lda_model_tfidf.print_topic(index, 10)))"
      ],
      "execution_count": 32,
      "outputs": [
        {
          "output_type": "stream",
          "name": "stdout",
          "text": [
            "\n",
            "Score: 0.5724867582321167\t \n",
            "Topic: 0.018*\"queensland\" + 0.011*\"market\" + 0.009*\"share\" + 0.009*\"victorian\" + 0.009*\"australian\" + 0.008*\"victoria\" + 0.008*\"dollar\" + 0.007*\"million\" + 0.007*\"rate\" + 0.007*\"rise\"\n",
            "\n",
            "Score: 0.26750093698501587\t \n",
            "Topic: 0.012*\"elect\" + 0.008*\"parliament\" + 0.007*\"senat\" + 0.007*\"right\" + 0.007*\"say\" + 0.006*\"david\" + 0.006*\"parti\" + 0.006*\"refuge\" + 0.006*\"syria\" + 0.006*\"post\"\n",
            "\n",
            "Score: 0.020002812147140503\t \n",
            "Topic: 0.012*\"countri\" + 0.010*\"rural\" + 0.009*\"hour\" + 0.009*\"energi\" + 0.007*\"quiz\" + 0.007*\"nation\" + 0.006*\"citizenship\" + 0.006*\"indigen\" + 0.006*\"parent\" + 0.006*\"great\"\n",
            "\n",
            "Score: 0.020002346485853195\t \n",
            "Topic: 0.011*\"perth\" + 0.009*\"john\" + 0.008*\"australia\" + 0.008*\"search\" + 0.008*\"ash\" + 0.007*\"world\" + 0.007*\"cricket\" + 0.007*\"mark\" + 0.007*\"weather\" + 0.006*\"adelaid\"\n",
            "\n",
            "Score: 0.020001661032438278\t \n",
            "Topic: 0.016*\"govern\" + 0.013*\"live\" + 0.010*\"korea\" + 0.010*\"interview\" + 0.009*\"christma\" + 0.008*\"aborigin\" + 0.008*\"north\" + 0.007*\"western\" + 0.006*\"mental\" + 0.006*\"island\"\n",
            "\n",
            "Score: 0.020001430064439774\t \n",
            "Topic: 0.019*\"donald\" + 0.017*\"south\" + 0.014*\"canberra\" + 0.014*\"tasmanian\" + 0.010*\"malcolm\" + 0.010*\"coast\" + 0.008*\"gold\" + 0.008*\"australia\" + 0.007*\"sport\" + 0.007*\"west\"\n",
            "\n",
            "Score: 0.020001329481601715\t \n",
            "Topic: 0.015*\"charg\" + 0.015*\"murder\" + 0.014*\"turnbul\" + 0.014*\"alleg\" + 0.014*\"polic\" + 0.011*\"court\" + 0.011*\"child\" + 0.010*\"woman\" + 0.010*\"arrest\" + 0.010*\"royal\"\n",
            "\n",
            "Score: 0.020001325756311417\t \n",
            "Topic: 0.011*\"hobart\" + 0.009*\"video\" + 0.009*\"stori\" + 0.008*\"shark\" + 0.008*\"violenc\" + 0.007*\"come\" + 0.007*\"domest\" + 0.007*\"plead\" + 0.007*\"guilti\" + 0.007*\"explain\"\n",
            "\n",
            "Score: 0.020001083612442017\t \n",
            "Topic: 0.015*\"marriag\" + 0.015*\"drum\" + 0.011*\"news\" + 0.010*\"liber\" + 0.006*\"budget\" + 0.006*\"inquest\" + 0.006*\"suicid\" + 0.005*\"curious\" + 0.005*\"septemb\" + 0.005*\"rememb\"\n",
            "\n",
            "Score: 0.020000306889414787\t \n",
            "Topic: 0.042*\"trump\" + 0.011*\"crash\" + 0.011*\"street\" + 0.009*\"tasmania\" + 0.008*\"wall\" + 0.008*\"mother\" + 0.007*\"girl\" + 0.007*\"fatal\" + 0.006*\"scorecentr\" + 0.006*\"olymp\"\n"
          ]
        }
      ]
    },
    {
      "cell_type": "markdown",
      "metadata": {
        "id": "MCvO1zcjMjXZ"
      },
      "source": [
        "## Step 6: Testing model on unseen document ##"
      ]
    },
    {
      "cell_type": "code",
      "metadata": {
        "id": "AvIQjOHJMjXa",
        "colab": {
          "base_uri": "https://localhost:8080/"
        },
        "outputId": "d6475c1c-8b84-44fa-ecbb-a705535593ed"
      },
      "source": [
        "unseen_document = \"My favorite sports activities are running and swimming.\"\n",
        "\n",
        "# Data preprocessing step for the unseen document\n",
        "bow_vector = dictionary.doc2bow(preprocess(unseen_document))\n",
        "\n",
        "for index, score in sorted(lda_model[bow_vector], key=lambda tup: -1*tup[1]):\n",
        "    print(\"Score: {}\\t Topic: {}\".format(score, lda_model.print_topic(index, 5)))"
      ],
      "execution_count": 33,
      "outputs": [
        {
          "output_type": "stream",
          "name": "stdout",
          "text": [
            "Score: 0.42000001668930054\t Topic: 0.032*\"queensland\" + 0.018*\"state\" + 0.018*\"market\" + 0.014*\"deal\" + 0.014*\"price\"\n",
            "Score: 0.2200000286102295\t Topic: 0.033*\"sydney\" + 0.027*\"melbourn\" + 0.020*\"home\" + 0.016*\"polic\" + 0.015*\"live\"\n",
            "Score: 0.2199999839067459\t Topic: 0.035*\"australian\" + 0.026*\"world\" + 0.022*\"south\" + 0.020*\"test\" + 0.019*\"north\"\n",
            "Score: 0.020000001415610313\t Topic: 0.057*\"australia\" + 0.046*\"trump\" + 0.029*\"elect\" + 0.020*\"school\" + 0.015*\"tasmanian\"\n",
            "Score: 0.020000001415610313\t Topic: 0.019*\"murder\" + 0.019*\"death\" + 0.016*\"china\" + 0.013*\"famili\" + 0.013*\"nation\"\n",
            "Score: 0.020000001415610313\t Topic: 0.040*\"polic\" + 0.022*\"canberra\" + 0.020*\"adelaid\" + 0.016*\"drug\" + 0.015*\"arrest\"\n",
            "Score: 0.020000001415610313\t Topic: 0.021*\"perth\" + 0.017*\"turnbul\" + 0.015*\"high\" + 0.012*\"show\" + 0.011*\"week\"\n",
            "Score: 0.020000001415610313\t Topic: 0.035*\"court\" + 0.031*\"attack\" + 0.022*\"face\" + 0.017*\"child\" + 0.017*\"peopl\"\n",
            "Score: 0.020000001415610313\t Topic: 0.039*\"woman\" + 0.031*\"govern\" + 0.028*\"year\" + 0.019*\"crash\" + 0.016*\"life\"\n",
            "Score: 0.020000001415610313\t Topic: 0.018*\"donald\" + 0.017*\"plan\" + 0.016*\"coast\" + 0.014*\"hous\" + 0.013*\"power\"\n"
          ]
        }
      ]
    },
    {
      "cell_type": "markdown",
      "metadata": {
        "id": "8J0c7-wmMjXa"
      },
      "source": [
        "### Now, look up different ways we can transform our words or use different techniques or improvements that we can make to make our Topic Classifier more accurate. Write them down below:"
      ]
    },
    {
      "cell_type": "markdown",
      "metadata": {
        "id": "OZx72s8uMjXa"
      },
      "source": [
        "**We can:**\n",
        "- Append points here\n",
        "- "
      ]
    }
  ]
}