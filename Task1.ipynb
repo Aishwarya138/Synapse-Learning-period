{
  "nbformat": 4,
  "nbformat_minor": 0,
  "metadata": {
    "colab": {
      "name": "Task1.ipynb",
      "provenance": [],
      "collapsed_sections": [],
      "include_colab_link": true
    },
    "kernelspec": {
      "name": "python3",
      "display_name": "Python 3"
    },
    "language_info": {
      "name": "python"
    }
  },
  "cells": [
    {
      "cell_type": "markdown",
      "metadata": {
        "id": "view-in-github",
        "colab_type": "text"
      },
      "source": [
        "<a href=\"https://colab.research.google.com/github/Aishwarya138/Synapse-Learning-period/blob/week1/Task1.ipynb\" target=\"_parent\"><img src=\"https://colab.research.google.com/assets/colab-badge.svg\" alt=\"Open In Colab\"/></a>"
      ]
    },
    {
      "cell_type": "markdown",
      "metadata": {
        "id": "C8KlsCFL1tvs"
      },
      "source": [
        "# Task 1\n",
        "#### Week 1 (Learning Period Synapse)\n",
        "###### pandas, numpy, matplotlib"
      ]
    },
    {
      "cell_type": "code",
      "metadata": {
        "colab": {
          "base_uri": "https://localhost:8080/"
        },
        "id": "wcGii-p723dl",
        "outputId": "f4c51730-2eff-49c6-a97e-4c97a8a0f376"
      },
      "source": [
        "from google.colab import drive\n",
        "drive.mount(\"/content/gdrive\")"
      ],
      "execution_count": 1,
      "outputs": [
        {
          "output_type": "stream",
          "name": "stdout",
          "text": [
            "Mounted at /content/gdrive\n"
          ]
        }
      ]
    },
    {
      "cell_type": "markdown",
      "metadata": {
        "id": "2ufinDlF2oH7"
      },
      "source": [
        "## 1. Import pandas, numpy and matplotlib"
      ]
    },
    {
      "cell_type": "code",
      "metadata": {
        "id": "P0xumbaX27tR"
      },
      "source": [
        "import pandas as pd\n",
        "import numpy as np\n",
        "import matplotlib.pyplot as plt"
      ],
      "execution_count": 2,
      "outputs": []
    },
    {
      "cell_type": "markdown",
      "metadata": {
        "id": "5dFTZvpm28n7"
      },
      "source": [
        "## 2. load the data \n",
        "<br> load the titanic dataset in a pandas dataframe <br> (download dataset from https://www.kaggle.com/c/titanic/data and store it in a folder called <b>\"syanpse_w1\"</b> in the root of your drive) <br>\n",
        "Note that you have to download the train and test csv files seperately"
      ]
    },
    {
      "cell_type": "code",
      "metadata": {
        "id": "mY_Fol-u1qmi"
      },
      "source": [
        "train_path = \"/content/gdrive/MyDrive/syanpse_w1/train.csv\"\n",
        "test_path = \"/content/gdrive/MyDrive/syanpse_w1/test.csv\"\n",
        "\n",
        "## write code to load train.csv and test.csv in dataframes\n",
        "train_df = pd.read_csv(train_path)\n",
        "test_df = pd.read_csv(test_path)"
      ],
      "execution_count": 3,
      "outputs": []
    },
    {
      "cell_type": "code",
      "metadata": {
        "id": "loyfFwFK1s6-",
        "colab": {
          "base_uri": "https://localhost:8080/",
          "height": 206
        },
        "outputId": "94bac192-632b-4859-802b-bde98862e39d"
      },
      "source": [
        "#write code to show first five data entries of both dataframes\n",
        "train_df.head(5)"
      ],
      "execution_count": 4,
      "outputs": [
        {
          "output_type": "execute_result",
          "data": {
            "text/html": [
              "<div>\n",
              "<style scoped>\n",
              "    .dataframe tbody tr th:only-of-type {\n",
              "        vertical-align: middle;\n",
              "    }\n",
              "\n",
              "    .dataframe tbody tr th {\n",
              "        vertical-align: top;\n",
              "    }\n",
              "\n",
              "    .dataframe thead th {\n",
              "        text-align: right;\n",
              "    }\n",
              "</style>\n",
              "<table border=\"1\" class=\"dataframe\">\n",
              "  <thead>\n",
              "    <tr style=\"text-align: right;\">\n",
              "      <th></th>\n",
              "      <th>PassengerId</th>\n",
              "      <th>Survived</th>\n",
              "      <th>Pclass</th>\n",
              "      <th>Name</th>\n",
              "      <th>Sex</th>\n",
              "      <th>Age</th>\n",
              "      <th>SibSp</th>\n",
              "      <th>Parch</th>\n",
              "      <th>Ticket</th>\n",
              "      <th>Fare</th>\n",
              "      <th>Cabin</th>\n",
              "      <th>Embarked</th>\n",
              "    </tr>\n",
              "  </thead>\n",
              "  <tbody>\n",
              "    <tr>\n",
              "      <th>0</th>\n",
              "      <td>1</td>\n",
              "      <td>0</td>\n",
              "      <td>3</td>\n",
              "      <td>Braund, Mr. Owen Harris</td>\n",
              "      <td>male</td>\n",
              "      <td>22.0</td>\n",
              "      <td>1</td>\n",
              "      <td>0</td>\n",
              "      <td>A/5 21171</td>\n",
              "      <td>7.2500</td>\n",
              "      <td>NaN</td>\n",
              "      <td>S</td>\n",
              "    </tr>\n",
              "    <tr>\n",
              "      <th>1</th>\n",
              "      <td>2</td>\n",
              "      <td>1</td>\n",
              "      <td>1</td>\n",
              "      <td>Cumings, Mrs. John Bradley (Florence Briggs Th...</td>\n",
              "      <td>female</td>\n",
              "      <td>38.0</td>\n",
              "      <td>1</td>\n",
              "      <td>0</td>\n",
              "      <td>PC 17599</td>\n",
              "      <td>71.2833</td>\n",
              "      <td>C85</td>\n",
              "      <td>C</td>\n",
              "    </tr>\n",
              "    <tr>\n",
              "      <th>2</th>\n",
              "      <td>3</td>\n",
              "      <td>1</td>\n",
              "      <td>3</td>\n",
              "      <td>Heikkinen, Miss. Laina</td>\n",
              "      <td>female</td>\n",
              "      <td>26.0</td>\n",
              "      <td>0</td>\n",
              "      <td>0</td>\n",
              "      <td>STON/O2. 3101282</td>\n",
              "      <td>7.9250</td>\n",
              "      <td>NaN</td>\n",
              "      <td>S</td>\n",
              "    </tr>\n",
              "    <tr>\n",
              "      <th>3</th>\n",
              "      <td>4</td>\n",
              "      <td>1</td>\n",
              "      <td>1</td>\n",
              "      <td>Futrelle, Mrs. Jacques Heath (Lily May Peel)</td>\n",
              "      <td>female</td>\n",
              "      <td>35.0</td>\n",
              "      <td>1</td>\n",
              "      <td>0</td>\n",
              "      <td>113803</td>\n",
              "      <td>53.1000</td>\n",
              "      <td>C123</td>\n",
              "      <td>S</td>\n",
              "    </tr>\n",
              "    <tr>\n",
              "      <th>4</th>\n",
              "      <td>5</td>\n",
              "      <td>0</td>\n",
              "      <td>3</td>\n",
              "      <td>Allen, Mr. William Henry</td>\n",
              "      <td>male</td>\n",
              "      <td>35.0</td>\n",
              "      <td>0</td>\n",
              "      <td>0</td>\n",
              "      <td>373450</td>\n",
              "      <td>8.0500</td>\n",
              "      <td>NaN</td>\n",
              "      <td>S</td>\n",
              "    </tr>\n",
              "  </tbody>\n",
              "</table>\n",
              "</div>"
            ],
            "text/plain": [
              "   PassengerId  Survived  Pclass  ...     Fare Cabin  Embarked\n",
              "0            1         0       3  ...   7.2500   NaN         S\n",
              "1            2         1       1  ...  71.2833   C85         C\n",
              "2            3         1       3  ...   7.9250   NaN         S\n",
              "3            4         1       1  ...  53.1000  C123         S\n",
              "4            5         0       3  ...   8.0500   NaN         S\n",
              "\n",
              "[5 rows x 12 columns]"
            ]
          },
          "metadata": {},
          "execution_count": 4
        }
      ]
    },
    {
      "cell_type": "code",
      "metadata": {
        "id": "d21HPJDrHFOk",
        "colab": {
          "base_uri": "https://localhost:8080/",
          "height": 206
        },
        "outputId": "0ce130fb-1ce4-48b7-e2eb-9992d4270881"
      },
      "source": [
        "test_df.head(5)"
      ],
      "execution_count": 5,
      "outputs": [
        {
          "output_type": "execute_result",
          "data": {
            "text/html": [
              "<div>\n",
              "<style scoped>\n",
              "    .dataframe tbody tr th:only-of-type {\n",
              "        vertical-align: middle;\n",
              "    }\n",
              "\n",
              "    .dataframe tbody tr th {\n",
              "        vertical-align: top;\n",
              "    }\n",
              "\n",
              "    .dataframe thead th {\n",
              "        text-align: right;\n",
              "    }\n",
              "</style>\n",
              "<table border=\"1\" class=\"dataframe\">\n",
              "  <thead>\n",
              "    <tr style=\"text-align: right;\">\n",
              "      <th></th>\n",
              "      <th>PassengerId</th>\n",
              "      <th>Pclass</th>\n",
              "      <th>Name</th>\n",
              "      <th>Sex</th>\n",
              "      <th>Age</th>\n",
              "      <th>SibSp</th>\n",
              "      <th>Parch</th>\n",
              "      <th>Ticket</th>\n",
              "      <th>Fare</th>\n",
              "      <th>Cabin</th>\n",
              "      <th>Embarked</th>\n",
              "    </tr>\n",
              "  </thead>\n",
              "  <tbody>\n",
              "    <tr>\n",
              "      <th>0</th>\n",
              "      <td>892</td>\n",
              "      <td>3</td>\n",
              "      <td>Kelly, Mr. James</td>\n",
              "      <td>male</td>\n",
              "      <td>34.5</td>\n",
              "      <td>0</td>\n",
              "      <td>0</td>\n",
              "      <td>330911</td>\n",
              "      <td>7.8292</td>\n",
              "      <td>NaN</td>\n",
              "      <td>Q</td>\n",
              "    </tr>\n",
              "    <tr>\n",
              "      <th>1</th>\n",
              "      <td>893</td>\n",
              "      <td>3</td>\n",
              "      <td>Wilkes, Mrs. James (Ellen Needs)</td>\n",
              "      <td>female</td>\n",
              "      <td>47.0</td>\n",
              "      <td>1</td>\n",
              "      <td>0</td>\n",
              "      <td>363272</td>\n",
              "      <td>7.0000</td>\n",
              "      <td>NaN</td>\n",
              "      <td>S</td>\n",
              "    </tr>\n",
              "    <tr>\n",
              "      <th>2</th>\n",
              "      <td>894</td>\n",
              "      <td>2</td>\n",
              "      <td>Myles, Mr. Thomas Francis</td>\n",
              "      <td>male</td>\n",
              "      <td>62.0</td>\n",
              "      <td>0</td>\n",
              "      <td>0</td>\n",
              "      <td>240276</td>\n",
              "      <td>9.6875</td>\n",
              "      <td>NaN</td>\n",
              "      <td>Q</td>\n",
              "    </tr>\n",
              "    <tr>\n",
              "      <th>3</th>\n",
              "      <td>895</td>\n",
              "      <td>3</td>\n",
              "      <td>Wirz, Mr. Albert</td>\n",
              "      <td>male</td>\n",
              "      <td>27.0</td>\n",
              "      <td>0</td>\n",
              "      <td>0</td>\n",
              "      <td>315154</td>\n",
              "      <td>8.6625</td>\n",
              "      <td>NaN</td>\n",
              "      <td>S</td>\n",
              "    </tr>\n",
              "    <tr>\n",
              "      <th>4</th>\n",
              "      <td>896</td>\n",
              "      <td>3</td>\n",
              "      <td>Hirvonen, Mrs. Alexander (Helga E Lindqvist)</td>\n",
              "      <td>female</td>\n",
              "      <td>22.0</td>\n",
              "      <td>1</td>\n",
              "      <td>1</td>\n",
              "      <td>3101298</td>\n",
              "      <td>12.2875</td>\n",
              "      <td>NaN</td>\n",
              "      <td>S</td>\n",
              "    </tr>\n",
              "  </tbody>\n",
              "</table>\n",
              "</div>"
            ],
            "text/plain": [
              "   PassengerId  Pclass  ... Cabin Embarked\n",
              "0          892       3  ...   NaN        Q\n",
              "1          893       3  ...   NaN        S\n",
              "2          894       2  ...   NaN        Q\n",
              "3          895       3  ...   NaN        S\n",
              "4          896       3  ...   NaN        S\n",
              "\n",
              "[5 rows x 11 columns]"
            ]
          },
          "metadata": {},
          "execution_count": 5
        }
      ]
    },
    {
      "cell_type": "markdown",
      "metadata": {
        "id": "eAe9H4ub-9TB"
      },
      "source": [
        "## 3. Exploratory Data Analysis\n",
        "Exploratory data analysis is a very important part of ML as it helps you understand the data you are dealing with <br>\n",
        "<br>\n",
        "(we will be working on the train dataframe in this task)"
      ]
    },
    {
      "cell_type": "markdown",
      "metadata": {
        "id": "7n5NzvIOAH1G"
      },
      "source": [
        "### 3.a. overview of the dataset"
      ]
    },
    {
      "cell_type": "markdown",
      "metadata": {
        "id": "dIl7EiGEBjPL"
      },
      "source": [
        " - write code to list the columns in your dataframe (each column on new line as visibility is important)"
      ]
    },
    {
      "cell_type": "code",
      "metadata": {
        "id": "jgGpmmk4BNpf",
        "colab": {
          "base_uri": "https://localhost:8080/"
        },
        "outputId": "744039cf-c0dd-4bd1-b44e-a0cfe15bb562"
      },
      "source": [
        "for col in train_df.columns:\n",
        "    print(col)"
      ],
      "execution_count": 6,
      "outputs": [
        {
          "output_type": "stream",
          "name": "stdout",
          "text": [
            "PassengerId\n",
            "Survived\n",
            "Pclass\n",
            "Name\n",
            "Sex\n",
            "Age\n",
            "SibSp\n",
            "Parch\n",
            "Ticket\n",
            "Fare\n",
            "Cabin\n",
            "Embarked\n"
          ]
        }
      ]
    },
    {
      "cell_type": "markdown",
      "metadata": {
        "id": "BbtlcScEBkwG"
      },
      "source": [
        " - write a function that returns the number of rows and columns in the dataset "
      ]
    },
    {
      "cell_type": "code",
      "metadata": {
        "id": "huYZDIdW87BM",
        "colab": {
          "base_uri": "https://localhost:8080/"
        },
        "outputId": "dace1cca-150e-4e14-9b7d-461d04bcc5ae"
      },
      "source": [
        "#write code here (print values as well)\n",
        "\n",
        "rows, columns = train_df.shape\n",
        "print('No. of rows : ', rows)\n",
        "print('No. of columns : ', columns)\n"
      ],
      "execution_count": 7,
      "outputs": [
        {
          "output_type": "stream",
          "name": "stdout",
          "text": [
            "No. of rows :  891\n",
            "No. of columns :  12\n"
          ]
        }
      ]
    },
    {
      "cell_type": "markdown",
      "metadata": {
        "id": "tFWvBxGvCR5M"
      },
      "source": [
        " - use the info() method of pandas dataframe to print the info related to the dataframe"
      ]
    },
    {
      "cell_type": "code",
      "metadata": {
        "id": "oDGygTjuAhtf",
        "colab": {
          "base_uri": "https://localhost:8080/"
        },
        "outputId": "3bb3a336-8405-464d-a359-d40730fc36a4"
      },
      "source": [
        "train_df.info()"
      ],
      "execution_count": 8,
      "outputs": [
        {
          "output_type": "stream",
          "name": "stdout",
          "text": [
            "<class 'pandas.core.frame.DataFrame'>\n",
            "RangeIndex: 891 entries, 0 to 890\n",
            "Data columns (total 12 columns):\n",
            " #   Column       Non-Null Count  Dtype  \n",
            "---  ------       --------------  -----  \n",
            " 0   PassengerId  891 non-null    int64  \n",
            " 1   Survived     891 non-null    int64  \n",
            " 2   Pclass       891 non-null    int64  \n",
            " 3   Name         891 non-null    object \n",
            " 4   Sex          891 non-null    object \n",
            " 5   Age          714 non-null    float64\n",
            " 6   SibSp        891 non-null    int64  \n",
            " 7   Parch        891 non-null    int64  \n",
            " 8   Ticket       891 non-null    object \n",
            " 9   Fare         891 non-null    float64\n",
            " 10  Cabin        204 non-null    object \n",
            " 11  Embarked     889 non-null    object \n",
            "dtypes: float64(2), int64(5), object(5)\n",
            "memory usage: 83.7+ KB\n"
          ]
        }
      ]
    },
    {
      "cell_type": "markdown",
      "metadata": {
        "id": "JtEy2fQuCfic"
      },
      "source": [
        " - use the describe() method of pandas dataframe to print the statistical description of the dataset"
      ]
    },
    {
      "cell_type": "code",
      "metadata": {
        "id": "HmAzuSpcCfAC",
        "colab": {
          "base_uri": "https://localhost:8080/",
          "height": 300
        },
        "outputId": "b9501e13-7076-4f09-9b08-f2455688e02e"
      },
      "source": [
        "train_df.describe()"
      ],
      "execution_count": 9,
      "outputs": [
        {
          "output_type": "execute_result",
          "data": {
            "text/html": [
              "<div>\n",
              "<style scoped>\n",
              "    .dataframe tbody tr th:only-of-type {\n",
              "        vertical-align: middle;\n",
              "    }\n",
              "\n",
              "    .dataframe tbody tr th {\n",
              "        vertical-align: top;\n",
              "    }\n",
              "\n",
              "    .dataframe thead th {\n",
              "        text-align: right;\n",
              "    }\n",
              "</style>\n",
              "<table border=\"1\" class=\"dataframe\">\n",
              "  <thead>\n",
              "    <tr style=\"text-align: right;\">\n",
              "      <th></th>\n",
              "      <th>PassengerId</th>\n",
              "      <th>Survived</th>\n",
              "      <th>Pclass</th>\n",
              "      <th>Age</th>\n",
              "      <th>SibSp</th>\n",
              "      <th>Parch</th>\n",
              "      <th>Fare</th>\n",
              "    </tr>\n",
              "  </thead>\n",
              "  <tbody>\n",
              "    <tr>\n",
              "      <th>count</th>\n",
              "      <td>891.000000</td>\n",
              "      <td>891.000000</td>\n",
              "      <td>891.000000</td>\n",
              "      <td>714.000000</td>\n",
              "      <td>891.000000</td>\n",
              "      <td>891.000000</td>\n",
              "      <td>891.000000</td>\n",
              "    </tr>\n",
              "    <tr>\n",
              "      <th>mean</th>\n",
              "      <td>446.000000</td>\n",
              "      <td>0.383838</td>\n",
              "      <td>2.308642</td>\n",
              "      <td>29.699118</td>\n",
              "      <td>0.523008</td>\n",
              "      <td>0.381594</td>\n",
              "      <td>32.204208</td>\n",
              "    </tr>\n",
              "    <tr>\n",
              "      <th>std</th>\n",
              "      <td>257.353842</td>\n",
              "      <td>0.486592</td>\n",
              "      <td>0.836071</td>\n",
              "      <td>14.526497</td>\n",
              "      <td>1.102743</td>\n",
              "      <td>0.806057</td>\n",
              "      <td>49.693429</td>\n",
              "    </tr>\n",
              "    <tr>\n",
              "      <th>min</th>\n",
              "      <td>1.000000</td>\n",
              "      <td>0.000000</td>\n",
              "      <td>1.000000</td>\n",
              "      <td>0.420000</td>\n",
              "      <td>0.000000</td>\n",
              "      <td>0.000000</td>\n",
              "      <td>0.000000</td>\n",
              "    </tr>\n",
              "    <tr>\n",
              "      <th>25%</th>\n",
              "      <td>223.500000</td>\n",
              "      <td>0.000000</td>\n",
              "      <td>2.000000</td>\n",
              "      <td>20.125000</td>\n",
              "      <td>0.000000</td>\n",
              "      <td>0.000000</td>\n",
              "      <td>7.910400</td>\n",
              "    </tr>\n",
              "    <tr>\n",
              "      <th>50%</th>\n",
              "      <td>446.000000</td>\n",
              "      <td>0.000000</td>\n",
              "      <td>3.000000</td>\n",
              "      <td>28.000000</td>\n",
              "      <td>0.000000</td>\n",
              "      <td>0.000000</td>\n",
              "      <td>14.454200</td>\n",
              "    </tr>\n",
              "    <tr>\n",
              "      <th>75%</th>\n",
              "      <td>668.500000</td>\n",
              "      <td>1.000000</td>\n",
              "      <td>3.000000</td>\n",
              "      <td>38.000000</td>\n",
              "      <td>1.000000</td>\n",
              "      <td>0.000000</td>\n",
              "      <td>31.000000</td>\n",
              "    </tr>\n",
              "    <tr>\n",
              "      <th>max</th>\n",
              "      <td>891.000000</td>\n",
              "      <td>1.000000</td>\n",
              "      <td>3.000000</td>\n",
              "      <td>80.000000</td>\n",
              "      <td>8.000000</td>\n",
              "      <td>6.000000</td>\n",
              "      <td>512.329200</td>\n",
              "    </tr>\n",
              "  </tbody>\n",
              "</table>\n",
              "</div>"
            ],
            "text/plain": [
              "       PassengerId    Survived      Pclass  ...       SibSp       Parch        Fare\n",
              "count   891.000000  891.000000  891.000000  ...  891.000000  891.000000  891.000000\n",
              "mean    446.000000    0.383838    2.308642  ...    0.523008    0.381594   32.204208\n",
              "std     257.353842    0.486592    0.836071  ...    1.102743    0.806057   49.693429\n",
              "min       1.000000    0.000000    1.000000  ...    0.000000    0.000000    0.000000\n",
              "25%     223.500000    0.000000    2.000000  ...    0.000000    0.000000    7.910400\n",
              "50%     446.000000    0.000000    3.000000  ...    0.000000    0.000000   14.454200\n",
              "75%     668.500000    1.000000    3.000000  ...    1.000000    0.000000   31.000000\n",
              "max     891.000000    1.000000    3.000000  ...    8.000000    6.000000  512.329200\n",
              "\n",
              "[8 rows x 7 columns]"
            ]
          },
          "metadata": {},
          "execution_count": 9
        }
      ]
    },
    {
      "cell_type": "markdown",
      "metadata": {
        "id": "A9e7GcsJC_ww"
      },
      "source": [
        " - Find all columns that have unique values. (example : the Gender column has 2 unique values Male and Female) <br>\n",
        "\n",
        " - if the columns have finite unique values, then add them in a dictionary of lists and print it <br>\n",
        "<br>\n",
        "dictionary should look like : <br>\n",
        "<t>{<br>&nbsp;&nbsp; \"Gender\" : [\"Male\", \"Female\"],<br>&nbsp;&nbsp; \"Col2\" : [\"unique1\", \"unique2\"],<br>&nbsp;&nbsp;&nbsp;&nbsp;.<br>&nbsp;&nbsp;&nbsp;&nbsp;.<br>&nbsp;&nbsp;&nbsp;&nbsp;.<br>}"
      ]
    },
    {
      "cell_type": "code",
      "metadata": {
        "id": "SvWOT_pKDbdu",
        "colab": {
          "base_uri": "https://localhost:8080/"
        },
        "outputId": "c7be947b-b3f1-4d2a-866c-69ece72f9846"
      },
      "source": [
        "train_df.nunique(dropna = True)  ## Number of unique values in each column"
      ],
      "execution_count": 10,
      "outputs": [
        {
          "output_type": "execute_result",
          "data": {
            "text/plain": [
              "PassengerId    891\n",
              "Survived         2\n",
              "Pclass           3\n",
              "Name           891\n",
              "Sex              2\n",
              "Age             88\n",
              "SibSp            7\n",
              "Parch            7\n",
              "Ticket         681\n",
              "Fare           248\n",
              "Cabin          147\n",
              "Embarked         3\n",
              "dtype: int64"
            ]
          },
          "metadata": {},
          "execution_count": 10
        }
      ]
    },
    {
      "cell_type": "code",
      "metadata": {
        "id": "CBMXRkJTHyWL",
        "colab": {
          "base_uri": "https://localhost:8080/"
        },
        "outputId": "c4b800d8-589f-425a-ba56-a07063905ff0"
      },
      "source": [
        "# Printing unique values\n",
        "\n",
        "print(train_df.Survived.unique())\n",
        "print(train_df.Pclass.unique())\n",
        "print(train_df.Sex.unique())\n",
        "print(train_df.SibSp.unique())\n",
        "print(train_df.Parch.unique())\n",
        "print(train_df.Embarked.unique())\n"
      ],
      "execution_count": 11,
      "outputs": [
        {
          "output_type": "stream",
          "name": "stdout",
          "text": [
            "[0 1]\n",
            "[3 1 2]\n",
            "['male' 'female']\n",
            "[1 0 3 4 2 5 8]\n",
            "[0 1 2 5 3 4 6]\n",
            "['S' 'C' 'Q' nan]\n"
          ]
        }
      ]
    },
    {
      "cell_type": "code",
      "metadata": {
        "id": "vYonfDovRC2D",
        "colab": {
          "base_uri": "https://localhost:8080/"
        },
        "outputId": "7a1b38e3-d392-45a5-f9cc-ecff7672fe86"
      },
      "source": [
        "#Creating a Dictionary\n",
        "\n",
        "dict_of_unique_values = {'Survived' : ['0', '1'],\n",
        "                         'Pclass' : ['1', '2', '3'],\n",
        "                         'Sex' : ['Male', 'Female'], \n",
        "                         'SibSp' : ['0', '1', '2', '3', '4', '5', '8'],\n",
        "                         'Parch' : ['0', '1', '2', '3', '4', '5', '6'],\n",
        "                         'Embarked' : ['S', 'C', 'Q']  \n",
        "}\n",
        "\n",
        "for key, value in dict_of_unique_values.items():\n",
        "    print( key, ' : ', value )"
      ],
      "execution_count": 12,
      "outputs": [
        {
          "output_type": "stream",
          "name": "stdout",
          "text": [
            "Survived  :  ['0', '1']\n",
            "Pclass  :  ['1', '2', '3']\n",
            "Sex  :  ['Male', 'Female']\n",
            "SibSp  :  ['0', '1', '2', '3', '4', '5', '8']\n",
            "Parch  :  ['0', '1', '2', '3', '4', '5', '6']\n",
            "Embarked  :  ['S', 'C', 'Q']\n"
          ]
        }
      ]
    },
    {
      "cell_type": "markdown",
      "metadata": {
        "id": "V1OdlEqXHzMC"
      },
      "source": [
        "### 3.b. Visualizing hidden Details"
      ]
    },
    {
      "cell_type": "markdown",
      "metadata": {
        "id": "De37jtciIY7F"
      },
      "source": [
        "##### Aim is to find relationship between Title and Survival rate\n",
        "- print the <b>name</b> column of the data<br>\n",
        "- notice that the word after the first comma encapsulates the title of the person (Mr., Mrs, etc)\n",
        "- extract the title using regular expression (help given below in the code)\n",
        "- store the title in a new column in the dataframe. Name the column : <b>Title</b>"
      ]
    },
    {
      "cell_type": "code",
      "metadata": {
        "id": "URnLEQP-EsXA",
        "colab": {
          "base_uri": "https://localhost:8080/"
        },
        "outputId": "bcb4a231-21d9-41b1-8b29-11cdf2b89631"
      },
      "source": [
        "#write code here (for regex help refer next code cell)\n",
        "\n",
        "print(train_df.Name)"
      ],
      "execution_count": 13,
      "outputs": [
        {
          "output_type": "stream",
          "name": "stdout",
          "text": [
            "0                                Braund, Mr. Owen Harris\n",
            "1      Cumings, Mrs. John Bradley (Florence Briggs Th...\n",
            "2                                 Heikkinen, Miss. Laina\n",
            "3           Futrelle, Mrs. Jacques Heath (Lily May Peel)\n",
            "4                               Allen, Mr. William Henry\n",
            "                             ...                        \n",
            "886                                Montvila, Rev. Juozas\n",
            "887                         Graham, Miss. Margaret Edith\n",
            "888             Johnston, Miss. Catherine Helen \"Carrie\"\n",
            "889                                Behr, Mr. Karl Howell\n",
            "890                                  Dooley, Mr. Patrick\n",
            "Name: Name, Length: 891, dtype: object\n"
          ]
        }
      ]
    },
    {
      "cell_type": "code",
      "metadata": {
        "id": "4Ud60r9FLYqc"
      },
      "source": [
        "import re\n",
        "\n",
        "name_list = train_df.Name.tolist()  ## Creating list of names \n",
        "\n",
        "title_list = []  ## Creating empty list to store the titles\n",
        "\n",
        "for n in name_list:                          ## Extracting titles from the names\n",
        "   title_search = re.search('(\\w+)\\.', n)\n",
        "   if title_search:\n",
        "      title = title_search.group()\n",
        "      title_list.append(title) \n",
        "\n",
        "train_df['Title'] = title_list     ## adding the list to the dataframe as column "
      ],
      "execution_count": 14,
      "outputs": []
    },
    {
      "cell_type": "code",
      "metadata": {
        "colab": {
          "base_uri": "https://localhost:8080/"
        },
        "id": "X62p2RoZIp6U",
        "outputId": "6d7dd47c-373a-40f7-ab0f-2d895cdc9980"
      },
      "source": [
        "#regex example\n",
        "import re\n",
        "\n",
        "name_eg = \"Petranec, Miss. Matilda\"\n",
        "title_search = re.search('(\\w+)\\.', name_eg) #the first argument is a pattern that we are looking for\n",
        "print(\"result:\", title_search) #this is the result we get after looking for the pattern\n",
        "if title_search:\n",
        "  print(\"pattern found\") #pattern found printed if a pattern like above is found\n",
        "  title = title_search.group(1) #extracting the pattern found by regular expression (title here)\n",
        "  print(\"title:\", title) "
      ],
      "execution_count": null,
      "outputs": [
        {
          "output_type": "stream",
          "name": "stdout",
          "text": [
            "result: <re.Match object; span=(10, 15), match='Miss.'>\n",
            "pattern found\n",
            "title: Miss\n"
          ]
        }
      ]
    },
    {
      "cell_type": "code",
      "metadata": {
        "id": "5ZMsfu5HKYbU",
        "colab": {
          "base_uri": "https://localhost:8080/"
        },
        "outputId": "af55f711-ed92-4a1e-96c3-7c103dbcadf4"
      },
      "source": [
        "#show the new dataframe with \"Title\" column here\n",
        "print(train_df)"
      ],
      "execution_count": 15,
      "outputs": [
        {
          "output_type": "stream",
          "name": "stdout",
          "text": [
            "     PassengerId  Survived  Pclass  ... Cabin Embarked  Title\n",
            "0              1         0       3  ...   NaN        S    Mr.\n",
            "1              2         1       1  ...   C85        C   Mrs.\n",
            "2              3         1       3  ...   NaN        S  Miss.\n",
            "3              4         1       1  ...  C123        S   Mrs.\n",
            "4              5         0       3  ...   NaN        S    Mr.\n",
            "..           ...       ...     ...  ...   ...      ...    ...\n",
            "886          887         0       2  ...   NaN        S   Rev.\n",
            "887          888         1       1  ...   B42        S  Miss.\n",
            "888          889         0       3  ...   NaN        S  Miss.\n",
            "889          890         1       1  ...  C148        C    Mr.\n",
            "890          891         0       3  ...   NaN        Q    Mr.\n",
            "\n",
            "[891 rows x 13 columns]\n"
          ]
        }
      ]
    },
    {
      "cell_type": "markdown",
      "metadata": {
        "id": "xQBmJI2eM5KT"
      },
      "source": [
        "- write code to get unique values from the title column\n",
        "- use the unique titles to find the number of people who survived (1) and number of people who did not (0) for each title. <b>num_survived/total</b> will give the survival rate for that title\n",
        "- make a new dataframe called <b>SR_df</b> and add the survival rates corresponding to titles in it<br><br>\n",
        "you may write a function for the above.<br><br>\n",
        "expected output : <br>\n",
        "Mr &nbsp;&nbsp; 0.679392<br>\n",
        "Capt &nbsp;&nbsp; 0.1245<br>\n",
        "&nbsp;&nbsp;.<br>\n",
        "&nbsp;&nbsp;.<br>\n",
        "&nbsp;&nbsp;.<br>\n"
      ]
    },
    {
      "cell_type": "code",
      "metadata": {
        "id": "HYHZxu-YO-NJ",
        "colab": {
          "base_uri": "https://localhost:8080/"
        },
        "outputId": "01f48d04-5c54-4745-d687-88ce8b76e9e1"
      },
      "source": [
        "## Unique titles\n",
        "\n",
        "unique_titles = train_df.Title.unique()\n",
        "print(unique_titles)\n",
        "print(\"\\n\")\n",
        "\n",
        "## No. of each unique title \n",
        "total_title = train_df.Title.value_counts()\n",
        "total_title_list = total_title.tolist()\n",
        "print(total_title_list)\n"
      ],
      "execution_count": 16,
      "outputs": [
        {
          "output_type": "stream",
          "name": "stdout",
          "text": [
            "['Mr.' 'Mrs.' 'Miss.' 'Master.' 'Don.' 'Rev.' 'Dr.' 'Mme.' 'Ms.' 'Major.'\n",
            " 'Lady.' 'Sir.' 'Mlle.' 'Col.' 'Capt.' 'Countess.' 'Jonkheer.']\n",
            "\n",
            "\n",
            "[517, 182, 125, 40, 7, 6, 2, 2, 2, 1, 1, 1, 1, 1, 1, 1, 1]\n"
          ]
        }
      ]
    },
    {
      "cell_type": "code",
      "metadata": {
        "colab": {
          "base_uri": "https://localhost:8080/"
        },
        "id": "vxdOji-Jh79o",
        "outputId": "ac0dfbe1-46ab-47f6-beef-f6b6ccd4c1e7"
      },
      "source": [
        "num_survived_list = []     ## list to store no. of people survived for each title\n",
        "num_not_survived_list = []\n",
        "\n",
        "for u in unique_titles:\n",
        "    i = 0\n",
        "    num_survived = 0\n",
        "    num_not_survived = 0\n",
        "\n",
        "    for t in train_df.Title:         \n",
        "         if(t == u):             \n",
        "             if(train_df.Survived[i] == 1):\n",
        "                  num_survived += 1  \n",
        "             else:\n",
        "                  num_not_survived += 1\n",
        "\n",
        "         i = i+1    \n",
        "    num_survived_list.append(num_survived)\n",
        "    num_not_survived_list.append(num_not_survived)\n",
        "\n",
        "print(num_survived_list)    \n",
        "print(num_not_survived_list)        "
      ],
      "execution_count": 17,
      "outputs": [
        {
          "output_type": "stream",
          "name": "stdout",
          "text": [
            "[81, 99, 127, 23, 0, 0, 3, 1, 1, 1, 1, 1, 2, 1, 0, 1, 0]\n",
            "[436, 26, 55, 17, 1, 6, 4, 0, 0, 1, 0, 0, 0, 1, 1, 0, 1]\n"
          ]
        }
      ]
    },
    {
      "cell_type": "code",
      "metadata": {
        "id": "JbdaGMkPSTEb"
      },
      "source": [
        "## Calculating survival rate by dividing two lists \n",
        "\n",
        "survival_rate = [i / j for i, j in zip(num_survived_list, total_title_list)]"
      ],
      "execution_count": 18,
      "outputs": []
    },
    {
      "cell_type": "code",
      "metadata": {
        "id": "eftv29NFPJzr",
        "colab": {
          "base_uri": "https://localhost:8080/"
        },
        "outputId": "b19d3592-7904-40ec-cde5-c8c5504e7783"
      },
      "source": [
        "#show the new dataframe SR_df here\n",
        "\n",
        "SR_df  = pd.DataFrame()\n",
        "SR_df['Title'] = unique_titles\n",
        "SR_df['Survival_Rate'] = survival_rate\n",
        "print(SR_df)"
      ],
      "execution_count": 19,
      "outputs": [
        {
          "output_type": "stream",
          "name": "stdout",
          "text": [
            "        Title  Survival_Rate\n",
            "0         Mr.       0.156673\n",
            "1        Mrs.       0.543956\n",
            "2       Miss.       1.016000\n",
            "3     Master.       0.575000\n",
            "4        Don.       0.000000\n",
            "5        Rev.       0.000000\n",
            "6         Dr.       1.500000\n",
            "7        Mme.       0.500000\n",
            "8         Ms.       0.500000\n",
            "9      Major.       1.000000\n",
            "10      Lady.       1.000000\n",
            "11       Sir.       1.000000\n",
            "12      Mlle.       2.000000\n",
            "13       Col.       1.000000\n",
            "14      Capt.       0.000000\n",
            "15  Countess.       1.000000\n",
            "16  Jonkheer.       0.000000\n"
          ]
        }
      ]
    },
    {
      "cell_type": "code",
      "metadata": {
        "id": "B-Hxt6x0E4F0"
      },
      "source": [
        ""
      ],
      "execution_count": null,
      "outputs": []
    },
    {
      "cell_type": "markdown",
      "metadata": {
        "id": "Olnh97qqO-tZ"
      },
      "source": [
        "- use SR_df to plot a bar graph for survival rate vs Title"
      ]
    },
    {
      "cell_type": "code",
      "metadata": {
        "id": "QYmrVku9MPdT",
        "colab": {
          "base_uri": "https://localhost:8080/",
          "height": 367
        },
        "outputId": "28ce1814-12c2-45f9-c8b5-12d85da099e1"
      },
      "source": [
        "## Plotting Survival Rate vs Title\n",
        "\n",
        "fig = plt.figure(figsize =(18, 5))\n",
        "plt.bar(SR_df.Title, SR_df.Survival_Rate, color = '#BEB4E4')  \n",
        "\n",
        "font1 = {'family':'serif','color':'#FC33AA','size':25}\n",
        "font2 = {'family':'serif','color':'darkred','size':20}\n",
        "\n",
        "plt.title(\"Survival Rate vs Title\", fontdict = font1)\n",
        "plt.xlabel(\"Title\", fontdict = font2)\n",
        "plt.ylabel(\"Survival Rate\", fontdict = font2)\n",
        "\n",
        "plt.show()"
      ],
      "execution_count": 20,
      "outputs": [
        {
          "output_type": "display_data",
          "data": {
            "image/png": "[encoded data removed]",
            "text/plain": [
              "<Figure size 1296x360 with 1 Axes>"
            ]
          },
          "metadata": {
            "needs_background": "light"
          }
        }
      ]
    },
    {
      "cell_type": "markdown",
      "metadata": {
        "id": "xrIVW_mHQPJX"
      },
      "source": [
        "This brings us to the end of EDA. <br>\n",
        "You may feel free to do more exploratry analysis.<br>\n",
        "The aim of this notebook is not to point out every small detail but to give you an overview and guide you"
      ]
    },
    {
      "cell_type": "code",
      "metadata": {
        "id": "qzpcPY_vRfNM"
      },
      "source": [
        ""
      ],
      "execution_count": null,
      "outputs": []
    },
    {
      "cell_type": "markdown",
      "metadata": {
        "id": "2tImb-hXsXmI"
      },
      "source": [
        "## 4. Data Visualization"
      ]
    },
    {
      "cell_type": "markdown",
      "metadata": {
        "id": "ah1dARlJsddI"
      },
      "source": [
        "- Make a pie chart to show the number of people who survived and number of people who did not\n",
        "- Make a pie chart to show the number of <b>Males</b> who survived and number of people who did not\n",
        "- Make a pie chart to show the number of <b>Females</b> who survived and number of people who did not\n",
        "<br><br>\n",
        "Note that all three charts must be visible in a single row (look into subplots)"
      ]
    },
    {
      "cell_type": "code",
      "metadata": {
        "id": "gaZyWEN5sXP6",
        "colab": {
          "base_uri": "https://localhost:8080/"
        },
        "outputId": "d7ea547a-96c5-4fc5-c8ea-a6dd076f5fc0"
      },
      "source": [
        "\n",
        "total_people_survived = 0\n",
        "\n",
        "for i in range(0, len(num_survived_list)):\n",
        "    total_people_survived += num_survived_list[i]\n",
        "\n",
        "\n",
        "total_people_not_survived = 891 - total_people_survived\n",
        "\n",
        "print('Total survived : ', total_people_survived)\n",
        "print('Total did not survive : ', total_people_not_survived)\n",
        "\n",
        "## calculating no. of males and felames who survived\n",
        "\n",
        "males_survived = 0\n",
        "i = 0\n",
        "\n",
        "for x in train_df.Sex:    \n",
        "    if(x == 'male'):\n",
        "        if(train_df.Survived[i] == 1):\n",
        "            males_survived += 1\n",
        "    i += 1\n",
        "    \n",
        "    \n",
        "females_survived = total_people_survived - males_survived       \n",
        "\n",
        "print('Males survived : ', males_survived)       \n",
        "print('Females survived : ', females_survived)\n"
      ],
      "execution_count": 21,
      "outputs": [
        {
          "output_type": "stream",
          "name": "stdout",
          "text": [
            "Total survived :  342\n",
            "Total did not survive :  549\n",
            "Males survived :  109\n",
            "Females survived :  233\n"
          ]
        }
      ]
    },
    {
      "cell_type": "code",
      "metadata": {
        "colab": {
          "base_uri": "https://localhost:8080/",
          "height": 248
        },
        "id": "Xxcz6XighmzP",
        "outputId": "a37ba53e-74d3-490a-f9a6-c9358302c8a1"
      },
      "source": [
        "## Pie charts\n",
        "\n",
        "fig = plt.figure(figsize =(20, 4))\n",
        "\n",
        "my_labels_1 = [\"People who survived\", \"People who did not survive\"]\n",
        "my_labels_2 = [\"Males who survived\", \"People who did not survive\"]\n",
        "my_labels_3 = [\"Females who survived\", \"People who did not survive\"]\n",
        "\n",
        "my_colors_1 = [\"#bc5090\", \"#003f5c\"]\n",
        "my_colors_2 = [\"#ff6361\", \"#003f5c\"]\n",
        "my_colors_3 = [\"#FFC0CB\", \"#003f5c\"]\n",
        "\n",
        "plt.subplot(1, 3, 1)\n",
        "plt.pie((total_people_survived, total_people_not_survived), labels = my_labels_1, colors = my_colors_1)\n",
        "\n",
        "plt.subplot(1, 3, 2)\n",
        "plt.pie((males_survived, total_people_not_survived), labels = my_labels_2, colors = my_colors_2)\n",
        "\n",
        "plt.subplot(1, 3, 3)\n",
        "plt.pie((females_survived, total_people_not_survived), labels = my_labels_3, colors = my_colors_3)\n",
        "\n",
        "plt.show()"
      ],
      "execution_count": 22,
      "outputs": [
        {
          "output_type": "display_data",
          "data": {
            "image/png": "[encoded data removed]",
            "text/plain": [
              "<Figure size 1440x288 with 3 Axes>"
            ]
          },
          "metadata": {}
        }
      ]
    },
    {
      "cell_type": "code",
      "metadata": {
        "id": "ZrZ2lW8XmY3m"
      },
      "source": [
        ""
      ],
      "execution_count": null,
      "outputs": []
    },
    {
      "cell_type": "markdown",
      "metadata": {
        "id": "uYSmxfqEsjGo"
      },
      "source": [
        "- Find if money affected survival rate (fare and Pclass) \n",
        " - Make a bar graph showing Pclass vs survival rate\n",
        " - Make a KDE plot (use the sns library) and plot Fare based on the Survival (google away for this one)"
      ]
    },
    {
      "cell_type": "code",
      "metadata": {
        "id": "xDoGfpHmWWn8"
      },
      "source": [
        "## Bar graph of Pclass vs Survival Rate using seaborn\n",
        "\n",
        "import seaborn as sns"
      ],
      "execution_count": 23,
      "outputs": []
    },
    {
      "cell_type": "code",
      "metadata": {
        "id": "ekU_aa0Wsn6T",
        "colab": {
          "base_uri": "https://localhost:8080/",
          "height": 362
        },
        "outputId": "61d7cba2-fb7d-45ee-e359-02fcdc876966"
      },
      "source": [
        "sns.set(rc = {'figure.figsize' : (10,5)})\n",
        "sns.barplot(x='Pclass', y='Survived', data = train_df)\n",
        "\n",
        "plt.xlabel('Pclass', size = 15)\n",
        "plt.ylabel('Survival Rate', size = 15)\n",
        "plt.title('Pclass vs Survival Rate', size = 20)\n",
        "\n",
        "plt.show()"
      ],
      "execution_count": 24,
      "outputs": [
        {
          "output_type": "display_data",
          "data": {
            "image/png": "[encoded data removed]",
            "text/plain": [
              "<Figure size 720x360 with 1 Axes>"
            ]
          },
          "metadata": {}
        }
      ]
    },
    {
      "cell_type": "code",
      "metadata": {
        "id": "C-qxRXEOcGzR"
      },
      "source": [
        ""
      ],
      "execution_count": null,
      "outputs": []
    },
    {
      "cell_type": "code",
      "metadata": {
        "colab": {
          "base_uri": "https://localhost:8080/",
          "height": 339
        },
        "id": "fUt7MgIocHBn",
        "outputId": "660dfa5f-dcbe-4335-ee5c-d0c8d13f94ea"
      },
      "source": [
        "## KDE plot \n",
        "\n",
        "sns.kdeplot(x='Fare', data = train_df, hue = 'Survived', shade = True)\n",
        "plt.show()"
      ],
      "execution_count": 25,
      "outputs": [
        {
          "output_type": "display_data",
          "data": {
            "image/png": "[encoded data removed]",
            "text/plain": [
              "<Figure size 720x360 with 1 Axes>"
            ]
          },
          "metadata": {}
        }
      ]
    },
    {
      "cell_type": "code",
      "metadata": {
        "id": "jZPXogvXcJJ1"
      },
      "source": [
        ""
      ],
      "execution_count": null,
      "outputs": []
    },
    {
      "cell_type": "markdown",
      "metadata": {
        "id": "NzSBvjqdRfiM"
      },
      "source": [
        "## 5. Preprocessing\n",
        "preprocessing is a very important step before we step into modelling"
      ]
    },
    {
      "cell_type": "markdown",
      "metadata": {
        "id": "1_HLgWAZTD-2"
      },
      "source": [
        " - when we added the Title column in the datadframe, we did preprocessing on the existing data to extract relevant information. As we also tried to explore and understand the data using survival rate, we saw it under EDA."
      ]
    },
    {
      "cell_type": "markdown",
      "metadata": {
        "id": "V-eJsxXrTuBJ"
      },
      "source": [
        "### 5.a. Removing unnecessary columns"
      ]
    },
    {
      "cell_type": "markdown",
      "metadata": {
        "id": "ij1QOguUT7nO"
      },
      "source": [
        " - The columns PassengerId and Ticket play no logical role in being related to the survival of a passenger. Hence we will remove them.\n",
        " - We will also remove the Name column as we have done <b>feature extraction</b> and obtained titles instead. (test set might have extra titles which are not in the train set. Think about how we would consider them. This however doesn't affect task 1's objective)"
      ]
    },
    {
      "cell_type": "code",
      "metadata": {
        "id": "lpLKo4YgMSKA",
        "colab": {
          "base_uri": "https://localhost:8080/",
          "height": 49
        },
        "outputId": "a3472671-0c35-44d4-fb68-3725ad3439b5"
      },
      "source": [
        "#write code to remove unnecessary columns from the dataframe here\n",
        "train_df.head(0)"
      ],
      "execution_count": 26,
      "outputs": [
        {
          "output_type": "execute_result",
          "data": {
            "text/html": [
              "<div>\n",
              "<style scoped>\n",
              "    .dataframe tbody tr th:only-of-type {\n",
              "        vertical-align: middle;\n",
              "    }\n",
              "\n",
              "    .dataframe tbody tr th {\n",
              "        vertical-align: top;\n",
              "    }\n",
              "\n",
              "    .dataframe thead th {\n",
              "        text-align: right;\n",
              "    }\n",
              "</style>\n",
              "<table border=\"1\" class=\"dataframe\">\n",
              "  <thead>\n",
              "    <tr style=\"text-align: right;\">\n",
              "      <th></th>\n",
              "      <th>PassengerId</th>\n",
              "      <th>Survived</th>\n",
              "      <th>Pclass</th>\n",
              "      <th>Name</th>\n",
              "      <th>Sex</th>\n",
              "      <th>Age</th>\n",
              "      <th>SibSp</th>\n",
              "      <th>Parch</th>\n",
              "      <th>Ticket</th>\n",
              "      <th>Fare</th>\n",
              "      <th>Cabin</th>\n",
              "      <th>Embarked</th>\n",
              "      <th>Title</th>\n",
              "    </tr>\n",
              "  </thead>\n",
              "  <tbody>\n",
              "  </tbody>\n",
              "</table>\n",
              "</div>"
            ],
            "text/plain": [
              "Empty DataFrame\n",
              "Columns: [PassengerId, Survived, Pclass, Name, Sex, Age, SibSp, Parch, Ticket, Fare, Cabin, Embarked, Title]\n",
              "Index: []"
            ]
          },
          "metadata": {},
          "execution_count": 26
        }
      ]
    },
    {
      "cell_type": "code",
      "metadata": {
        "id": "FP7podaryhbP",
        "colab": {
          "base_uri": "https://localhost:8080/",
          "height": 49
        },
        "outputId": "586b8ec0-cc0c-4ed5-a6ba-a7b646df171c"
      },
      "source": [
        "train_df.drop(['PassengerId', 'Name', 'Ticket'], axis = 1, inplace = True)  \n",
        "\n",
        "train_df.head(0)"
      ],
      "execution_count": 27,
      "outputs": [
        {
          "output_type": "execute_result",
          "data": {
            "text/html": [
              "<div>\n",
              "<style scoped>\n",
              "    .dataframe tbody tr th:only-of-type {\n",
              "        vertical-align: middle;\n",
              "    }\n",
              "\n",
              "    .dataframe tbody tr th {\n",
              "        vertical-align: top;\n",
              "    }\n",
              "\n",
              "    .dataframe thead th {\n",
              "        text-align: right;\n",
              "    }\n",
              "</style>\n",
              "<table border=\"1\" class=\"dataframe\">\n",
              "  <thead>\n",
              "    <tr style=\"text-align: right;\">\n",
              "      <th></th>\n",
              "      <th>Survived</th>\n",
              "      <th>Pclass</th>\n",
              "      <th>Sex</th>\n",
              "      <th>Age</th>\n",
              "      <th>SibSp</th>\n",
              "      <th>Parch</th>\n",
              "      <th>Fare</th>\n",
              "      <th>Cabin</th>\n",
              "      <th>Embarked</th>\n",
              "      <th>Title</th>\n",
              "    </tr>\n",
              "  </thead>\n",
              "  <tbody>\n",
              "  </tbody>\n",
              "</table>\n",
              "</div>"
            ],
            "text/plain": [
              "Empty DataFrame\n",
              "Columns: [Survived, Pclass, Sex, Age, SibSp, Parch, Fare, Cabin, Embarked, Title]\n",
              "Index: []"
            ]
          },
          "metadata": {},
          "execution_count": 27
        }
      ]
    },
    {
      "cell_type": "markdown",
      "metadata": {
        "id": "63jou6PJaoqp"
      },
      "source": [
        "### 5.b. Nan analysis"
      ]
    },
    {
      "cell_type": "markdown",
      "metadata": {
        "id": "qh6_TT42ay-x"
      },
      "source": [
        " - write code to find the percentage of Nans in each column and visualize it in a tabular format"
      ]
    },
    {
      "cell_type": "code",
      "metadata": {
        "id": "F0V-qmTDUMAx",
        "colab": {
          "base_uri": "https://localhost:8080/"
        },
        "outputId": "c0acf347-7f5a-49dd-8c96-e7d377611e24"
      },
      "source": [
        "#write code here\n",
        "\n",
        "train_df.isna().sum()/(len(train_df)) * 100"
      ],
      "execution_count": 28,
      "outputs": [
        {
          "output_type": "execute_result",
          "data": {
            "text/plain": [
              "Survived     0.000000\n",
              "Pclass       0.000000\n",
              "Sex          0.000000\n",
              "Age         19.865320\n",
              "SibSp        0.000000\n",
              "Parch        0.000000\n",
              "Fare         0.000000\n",
              "Cabin       77.104377\n",
              "Embarked     0.224467\n",
              "Title        0.000000\n",
              "dtype: float64"
            ]
          },
          "metadata": {},
          "execution_count": 28
        }
      ]
    },
    {
      "cell_type": "markdown",
      "metadata": {
        "id": "2mqclVHla_ey"
      },
      "source": [
        " - remove any column having more than 50% Nans as they would be of no use"
      ]
    },
    {
      "cell_type": "code",
      "metadata": {
        "id": "wN6LpxsKa-Zi"
      },
      "source": [
        "#write code here\n",
        "\n",
        "train_df.drop('Cabin', axis = 1, inplace = True )"
      ],
      "execution_count": 29,
      "outputs": []
    },
    {
      "cell_type": "markdown",
      "metadata": {
        "id": "YfPIbLBkbU8C"
      },
      "source": [
        " - Fill Nans in the Embark column with the statistical mode\n",
        " - Fill Nans in the Age column with it's statistical mean"
      ]
    },
    {
      "cell_type": "code",
      "metadata": {
        "colab": {
          "base_uri": "https://localhost:8080/"
        },
        "id": "zUN8RiF5mskm",
        "outputId": "0b424834-2a1a-4d94-a4b7-f637cd80d3b6"
      },
      "source": [
        "train_df['Embarked'].mode()"
      ],
      "execution_count": 30,
      "outputs": [
        {
          "output_type": "execute_result",
          "data": {
            "text/plain": [
              "0    S\n",
              "dtype: object"
            ]
          },
          "metadata": {},
          "execution_count": 30
        }
      ]
    },
    {
      "cell_type": "code",
      "metadata": {
        "id": "l7Np7Qz1J7dz"
      },
      "source": [
        "train_df['Embarked'].fillna('S', inplace = True)\n",
        "\n",
        "train_df['Age'].fillna(np.mean(train_df['Age']), inplace = True)"
      ],
      "execution_count": 31,
      "outputs": []
    },
    {
      "cell_type": "markdown",
      "metadata": {
        "id": "ldZ-7Knyc7r1"
      },
      "source": [
        " - show the new Nan percentage vs column name table after filling and removing to make sure there are no Nans"
      ]
    },
    {
      "cell_type": "code",
      "metadata": {
        "id": "qalNu0Gvc6ih",
        "colab": {
          "base_uri": "https://localhost:8080/"
        },
        "outputId": "4859d731-5154-4280-b3da-146cd4dbe5ad"
      },
      "source": [
        "#write code here\n",
        "\n",
        "train_df.isna().sum()/(len(train_df)) * 100     "
      ],
      "execution_count": 32,
      "outputs": [
        {
          "output_type": "execute_result",
          "data": {
            "text/plain": [
              "Survived    0.0\n",
              "Pclass      0.0\n",
              "Sex         0.0\n",
              "Age         0.0\n",
              "SibSp       0.0\n",
              "Parch       0.0\n",
              "Fare        0.0\n",
              "Embarked    0.0\n",
              "Title       0.0\n",
              "dtype: float64"
            ]
          },
          "metadata": {},
          "execution_count": 32
        }
      ]
    },
    {
      "cell_type": "markdown",
      "metadata": {
        "id": "EQKtPBSSgUpN"
      },
      "source": [
        "### 5.c. Adding features to the dataset"
      ]
    },
    {
      "cell_type": "markdown",
      "metadata": {
        "id": "daJuxRs4gcH9"
      },
      "source": [
        " - Read the kaggle link (titanic dataset) provided above and see what the two columns SibSP and Parch signify\n",
        " - Using that create a new column called <B>Family_members</b>\n",
        " - Fill it with the sum of SibSP and Parch"
      ]
    },
    {
      "cell_type": "code",
      "metadata": {
        "id": "IZF7_Jfagbd_"
      },
      "source": [
        "#write code here\n",
        "\n",
        "new_col = train_df[\"SibSp\"] + train_df[\"Parch\"]\n",
        "train_df[\"Family_members\"] = new_col"
      ],
      "execution_count": 33,
      "outputs": []
    },
    {
      "cell_type": "markdown",
      "metadata": {
        "id": "1jrABHyphdWg"
      },
      "source": [
        " - Now you may remove the two columns SibSP and Parch<br>\n",
        " It is important to remove them because they introduce multicollinearity in our dataset now as the new column Family_members is directly dependent on them.<br>\n",
        " Multicollinearity is deadly to linear models that we will look into later"
      ]
    },
    {
      "cell_type": "code",
      "metadata": {
        "id": "aPf3p6WChc3g",
        "colab": {
          "base_uri": "https://localhost:8080/",
          "height": 49
        },
        "outputId": "275e88f6-ce3e-4aff-865f-e747544219b3"
      },
      "source": [
        "#write code here\n",
        "\n",
        "train_df.drop(['SibSp', 'Parch'], axis = 1, inplace = True)\n",
        "train_df.head(0)"
      ],
      "execution_count": 34,
      "outputs": [
        {
          "output_type": "execute_result",
          "data": {
            "text/html": [
              "<div>\n",
              "<style scoped>\n",
              "    .dataframe tbody tr th:only-of-type {\n",
              "        vertical-align: middle;\n",
              "    }\n",
              "\n",
              "    .dataframe tbody tr th {\n",
              "        vertical-align: top;\n",
              "    }\n",
              "\n",
              "    .dataframe thead th {\n",
              "        text-align: right;\n",
              "    }\n",
              "</style>\n",
              "<table border=\"1\" class=\"dataframe\">\n",
              "  <thead>\n",
              "    <tr style=\"text-align: right;\">\n",
              "      <th></th>\n",
              "      <th>Survived</th>\n",
              "      <th>Pclass</th>\n",
              "      <th>Sex</th>\n",
              "      <th>Age</th>\n",
              "      <th>Fare</th>\n",
              "      <th>Embarked</th>\n",
              "      <th>Title</th>\n",
              "      <th>Family_members</th>\n",
              "    </tr>\n",
              "  </thead>\n",
              "  <tbody>\n",
              "  </tbody>\n",
              "</table>\n",
              "</div>"
            ],
            "text/plain": [
              "Empty DataFrame\n",
              "Columns: [Survived, Pclass, Sex, Age, Fare, Embarked, Title, Family_members]\n",
              "Index: []"
            ]
          },
          "metadata": {},
          "execution_count": 34
        }
      ]
    },
    {
      "cell_type": "code",
      "metadata": {
        "id": "ZoC97Umai-vg"
      },
      "source": [
        ""
      ],
      "execution_count": null,
      "outputs": []
    },
    {
      "cell_type": "markdown",
      "metadata": {
        "id": "Az401HQIi8FR"
      },
      "source": [
        "### 5.d. Scaling and Normalization\n",
        "we don't want to give undue advantage to a few columns (when training models), just because they have a numeric data that is larger in magnitude.<br>\n",
        "Therefore we scale all values down to a specific range or distribution\n",
        "<br>"
      ]
    },
    {
      "cell_type": "markdown",
      "metadata": {
        "id": "8uXii3c6jx-4"
      },
      "source": [
        " - Columns to apply scaling on\n",
        "  - Age\n",
        "  - Fare\n",
        "  - Family_members\n",
        "\n",
        "- Although Pclass column is numeric, it contains classification data (only 1, 2 and 3). Therefore only continuous data like age, fare, etc needs to be normalized"
      ]
    },
    {
      "cell_type": "markdown",
      "metadata": {
        "id": "NwDqNCcrlYtR"
      },
      "source": [
        " - Read about standardization and normalization in this link https://www.geeksforgeeks.org/normalization-vs-standardization/\n",
        " - apply the formulas given in the link above and scale/normalize the features that are supposed to be scaled\n",
        " - It is your choice to choose wether you choose to normalize or standardize a column. You will be able to make your choice after reading the link contents.\n",
        " - If you feel confused with the choice, then you can go ahead and directly normalize."
      ]
    },
    {
      "cell_type": "code",
      "metadata": {
        "id": "9LzoSA42h_wv"
      },
      "source": [
        "## Normalizing Fare and Family_members   \n",
        "\n",
        "from sklearn.preprocessing import MinMaxScaler\n",
        "\n",
        "scaler = MinMaxScaler()\n",
        "\n",
        "train_df[[\"Fare\", \"Family_members\"]] = scaler.fit_transform(train_df[[\"Fare\", \"Family_members\"]])"
      ],
      "execution_count": 35,
      "outputs": []
    },
    {
      "cell_type": "code",
      "metadata": {
        "id": "kDoSSXXEGGtm"
      },
      "source": [
        "## Standardising Age \n",
        "\n",
        "from sklearn.preprocessing import StandardScaler\n",
        "\n",
        "scaler = StandardScaler()\n",
        "\n",
        "train_df[\"Age\"] = scaler.fit_transform(train_df.Age.values.reshape(-1, 1))"
      ],
      "execution_count": 36,
      "outputs": []
    },
    {
      "cell_type": "code",
      "metadata": {
        "id": "f3nVU22PGGxL"
      },
      "source": [
        ""
      ],
      "execution_count": null,
      "outputs": []
    },
    {
      "cell_type": "markdown",
      "metadata": {
        "id": "8KXM4Xe0m-bj"
      },
      "source": [
        "### 5.e. One hot encoding\n",
        "Machine Learning models do not understand strings <br>\n",
        "They understand numbers<br>\n",
        "That is one of the reasons why we one hot encode few columns<br>\n",
        "\n",
        "- refer this link for more information : https://datagy.io/pandas-get-dummies/\n",
        "- you can use this or directly look into pandas get_dummies() method to implement this"
      ]
    },
    {
      "cell_type": "markdown",
      "metadata": {
        "id": "1IIsD-KcpVBc"
      },
      "source": [
        "- columns to apply one_hot encoding on\n",
        " - Pclass\n",
        " - Sex\n",
        " - Title\n",
        " - Embarked\n"
      ]
    },
    {
      "cell_type": "code",
      "metadata": {
        "id": "Y60WNgwLjrmn"
      },
      "source": [
        "\n",
        "categorical_columns = ['Pclass', 'Sex', 'Title', 'Embarked']\n",
        "\n",
        "for column in categorical_columns:\n",
        "    temp = pd.get_dummies(train_df[column], prefix = column)\n",
        "    train_df = pd.merge(left = train_df,\n",
        "                        right = temp,\n",
        "                        left_index = True,\n",
        "                        right_index = True,\n",
        "    )\n",
        "\n",
        "    train_df = train_df.drop(columns = column)\n"
      ],
      "execution_count": 37,
      "outputs": []
    },
    {
      "cell_type": "code",
      "metadata": {
        "id": "r4wogy53paiL",
        "colab": {
          "base_uri": "https://localhost:8080/",
          "height": 444
        },
        "outputId": "8340b573-a31a-403f-f42a-4604dbb61d06"
      },
      "source": [
        "#show the final dataframe here\n",
        "\n",
        "train_df"
      ],
      "execution_count": 38,
      "outputs": [
        {
          "output_type": "execute_result",
          "data": {
            "text/html": [
              "<div>\n",
              "<style scoped>\n",
              "    .dataframe tbody tr th:only-of-type {\n",
              "        vertical-align: middle;\n",
              "    }\n",
              "\n",
              "    .dataframe tbody tr th {\n",
              "        vertical-align: top;\n",
              "    }\n",
              "\n",
              "    .dataframe thead th {\n",
              "        text-align: right;\n",
              "    }\n",
              "</style>\n",
              "<table border=\"1\" class=\"dataframe\">\n",
              "  <thead>\n",
              "    <tr style=\"text-align: right;\">\n",
              "      <th></th>\n",
              "      <th>Survived</th>\n",
              "      <th>Age</th>\n",
              "      <th>Fare</th>\n",
              "      <th>Family_members</th>\n",
              "      <th>Pclass_1</th>\n",
              "      <th>Pclass_2</th>\n",
              "      <th>Pclass_3</th>\n",
              "      <th>Sex_female</th>\n",
              "      <th>Sex_male</th>\n",
              "      <th>Title_Capt.</th>\n",
              "      <th>Title_Col.</th>\n",
              "      <th>Title_Countess.</th>\n",
              "      <th>Title_Don.</th>\n",
              "      <th>Title_Dr.</th>\n",
              "      <th>Title_Jonkheer.</th>\n",
              "      <th>Title_Lady.</th>\n",
              "      <th>Title_Major.</th>\n",
              "      <th>Title_Master.</th>\n",
              "      <th>Title_Miss.</th>\n",
              "      <th>Title_Mlle.</th>\n",
              "      <th>Title_Mme.</th>\n",
              "      <th>Title_Mr.</th>\n",
              "      <th>Title_Mrs.</th>\n",
              "      <th>Title_Ms.</th>\n",
              "      <th>Title_Rev.</th>\n",
              "      <th>Title_Sir.</th>\n",
              "      <th>Embarked_C</th>\n",
              "      <th>Embarked_Q</th>\n",
              "      <th>Embarked_S</th>\n",
              "    </tr>\n",
              "  </thead>\n",
              "  <tbody>\n",
              "    <tr>\n",
              "      <th>0</th>\n",
              "      <td>0</td>\n",
              "      <td>-0.592481</td>\n",
              "      <td>0.014151</td>\n",
              "      <td>0.1</td>\n",
              "      <td>0</td>\n",
              "      <td>0</td>\n",
              "      <td>1</td>\n",
              "      <td>0</td>\n",
              "      <td>1</td>\n",
              "      <td>0</td>\n",
              "      <td>0</td>\n",
              "      <td>0</td>\n",
              "      <td>0</td>\n",
              "      <td>0</td>\n",
              "      <td>0</td>\n",
              "      <td>0</td>\n",
              "      <td>0</td>\n",
              "      <td>0</td>\n",
              "      <td>0</td>\n",
              "      <td>0</td>\n",
              "      <td>0</td>\n",
              "      <td>1</td>\n",
              "      <td>0</td>\n",
              "      <td>0</td>\n",
              "      <td>0</td>\n",
              "      <td>0</td>\n",
              "      <td>0</td>\n",
              "      <td>0</td>\n",
              "      <td>1</td>\n",
              "    </tr>\n",
              "    <tr>\n",
              "      <th>1</th>\n",
              "      <td>1</td>\n",
              "      <td>0.638789</td>\n",
              "      <td>0.139136</td>\n",
              "      <td>0.1</td>\n",
              "      <td>1</td>\n",
              "      <td>0</td>\n",
              "      <td>0</td>\n",
              "      <td>1</td>\n",
              "      <td>0</td>\n",
              "      <td>0</td>\n",
              "      <td>0</td>\n",
              "      <td>0</td>\n",
              "      <td>0</td>\n",
              "      <td>0</td>\n",
              "      <td>0</td>\n",
              "      <td>0</td>\n",
              "      <td>0</td>\n",
              "      <td>0</td>\n",
              "      <td>0</td>\n",
              "      <td>0</td>\n",
              "      <td>0</td>\n",
              "      <td>0</td>\n",
              "      <td>1</td>\n",
              "      <td>0</td>\n",
              "      <td>0</td>\n",
              "      <td>0</td>\n",
              "      <td>1</td>\n",
              "      <td>0</td>\n",
              "      <td>0</td>\n",
              "    </tr>\n",
              "    <tr>\n",
              "      <th>2</th>\n",
              "      <td>1</td>\n",
              "      <td>-0.284663</td>\n",
              "      <td>0.015469</td>\n",
              "      <td>0.0</td>\n",
              "      <td>0</td>\n",
              "      <td>0</td>\n",
              "      <td>1</td>\n",
              "      <td>1</td>\n",
              "      <td>0</td>\n",
              "      <td>0</td>\n",
              "      <td>0</td>\n",
              "      <td>0</td>\n",
              "      <td>0</td>\n",
              "      <td>0</td>\n",
              "      <td>0</td>\n",
              "      <td>0</td>\n",
              "      <td>0</td>\n",
              "      <td>0</td>\n",
              "      <td>1</td>\n",
              "      <td>0</td>\n",
              "      <td>0</td>\n",
              "      <td>0</td>\n",
              "      <td>0</td>\n",
              "      <td>0</td>\n",
              "      <td>0</td>\n",
              "      <td>0</td>\n",
              "      <td>0</td>\n",
              "      <td>0</td>\n",
              "      <td>1</td>\n",
              "    </tr>\n",
              "    <tr>\n",
              "      <th>3</th>\n",
              "      <td>1</td>\n",
              "      <td>0.407926</td>\n",
              "      <td>0.103644</td>\n",
              "      <td>0.1</td>\n",
              "      <td>1</td>\n",
              "      <td>0</td>\n",
              "      <td>0</td>\n",
              "      <td>1</td>\n",
              "      <td>0</td>\n",
              "      <td>0</td>\n",
              "      <td>0</td>\n",
              "      <td>0</td>\n",
              "      <td>0</td>\n",
              "      <td>0</td>\n",
              "      <td>0</td>\n",
              "      <td>0</td>\n",
              "      <td>0</td>\n",
              "      <td>0</td>\n",
              "      <td>0</td>\n",
              "      <td>0</td>\n",
              "      <td>0</td>\n",
              "      <td>0</td>\n",
              "      <td>1</td>\n",
              "      <td>0</td>\n",
              "      <td>0</td>\n",
              "      <td>0</td>\n",
              "      <td>0</td>\n",
              "      <td>0</td>\n",
              "      <td>1</td>\n",
              "    </tr>\n",
              "    <tr>\n",
              "      <th>4</th>\n",
              "      <td>0</td>\n",
              "      <td>0.407926</td>\n",
              "      <td>0.015713</td>\n",
              "      <td>0.0</td>\n",
              "      <td>0</td>\n",
              "      <td>0</td>\n",
              "      <td>1</td>\n",
              "      <td>0</td>\n",
              "      <td>1</td>\n",
              "      <td>0</td>\n",
              "      <td>0</td>\n",
              "      <td>0</td>\n",
              "      <td>0</td>\n",
              "      <td>0</td>\n",
              "      <td>0</td>\n",
              "      <td>0</td>\n",
              "      <td>0</td>\n",
              "      <td>0</td>\n",
              "      <td>0</td>\n",
              "      <td>0</td>\n",
              "      <td>0</td>\n",
              "      <td>1</td>\n",
              "      <td>0</td>\n",
              "      <td>0</td>\n",
              "      <td>0</td>\n",
              "      <td>0</td>\n",
              "      <td>0</td>\n",
              "      <td>0</td>\n",
              "      <td>1</td>\n",
              "    </tr>\n",
              "    <tr>\n",
              "      <th>...</th>\n",
              "      <td>...</td>\n",
              "      <td>...</td>\n",
              "      <td>...</td>\n",
              "      <td>...</td>\n",
              "      <td>...</td>\n",
              "      <td>...</td>\n",
              "      <td>...</td>\n",
              "      <td>...</td>\n",
              "      <td>...</td>\n",
              "      <td>...</td>\n",
              "      <td>...</td>\n",
              "      <td>...</td>\n",
              "      <td>...</td>\n",
              "      <td>...</td>\n",
              "      <td>...</td>\n",
              "      <td>...</td>\n",
              "      <td>...</td>\n",
              "      <td>...</td>\n",
              "      <td>...</td>\n",
              "      <td>...</td>\n",
              "      <td>...</td>\n",
              "      <td>...</td>\n",
              "      <td>...</td>\n",
              "      <td>...</td>\n",
              "      <td>...</td>\n",
              "      <td>...</td>\n",
              "      <td>...</td>\n",
              "      <td>...</td>\n",
              "      <td>...</td>\n",
              "    </tr>\n",
              "    <tr>\n",
              "      <th>886</th>\n",
              "      <td>0</td>\n",
              "      <td>-0.207709</td>\n",
              "      <td>0.025374</td>\n",
              "      <td>0.0</td>\n",
              "      <td>0</td>\n",
              "      <td>1</td>\n",
              "      <td>0</td>\n",
              "      <td>0</td>\n",
              "      <td>1</td>\n",
              "      <td>0</td>\n",
              "      <td>0</td>\n",
              "      <td>0</td>\n",
              "      <td>0</td>\n",
              "      <td>0</td>\n",
              "      <td>0</td>\n",
              "      <td>0</td>\n",
              "      <td>0</td>\n",
              "      <td>0</td>\n",
              "      <td>0</td>\n",
              "      <td>0</td>\n",
              "      <td>0</td>\n",
              "      <td>0</td>\n",
              "      <td>0</td>\n",
              "      <td>0</td>\n",
              "      <td>1</td>\n",
              "      <td>0</td>\n",
              "      <td>0</td>\n",
              "      <td>0</td>\n",
              "      <td>1</td>\n",
              "    </tr>\n",
              "    <tr>\n",
              "      <th>887</th>\n",
              "      <td>1</td>\n",
              "      <td>-0.823344</td>\n",
              "      <td>0.058556</td>\n",
              "      <td>0.0</td>\n",
              "      <td>1</td>\n",
              "      <td>0</td>\n",
              "      <td>0</td>\n",
              "      <td>1</td>\n",
              "      <td>0</td>\n",
              "      <td>0</td>\n",
              "      <td>0</td>\n",
              "      <td>0</td>\n",
              "      <td>0</td>\n",
              "      <td>0</td>\n",
              "      <td>0</td>\n",
              "      <td>0</td>\n",
              "      <td>0</td>\n",
              "      <td>0</td>\n",
              "      <td>1</td>\n",
              "      <td>0</td>\n",
              "      <td>0</td>\n",
              "      <td>0</td>\n",
              "      <td>0</td>\n",
              "      <td>0</td>\n",
              "      <td>0</td>\n",
              "      <td>0</td>\n",
              "      <td>0</td>\n",
              "      <td>0</td>\n",
              "      <td>1</td>\n",
              "    </tr>\n",
              "    <tr>\n",
              "      <th>888</th>\n",
              "      <td>0</td>\n",
              "      <td>0.000000</td>\n",
              "      <td>0.045771</td>\n",
              "      <td>0.3</td>\n",
              "      <td>0</td>\n",
              "      <td>0</td>\n",
              "      <td>1</td>\n",
              "      <td>1</td>\n",
              "      <td>0</td>\n",
              "      <td>0</td>\n",
              "      <td>0</td>\n",
              "      <td>0</td>\n",
              "      <td>0</td>\n",
              "      <td>0</td>\n",
              "      <td>0</td>\n",
              "      <td>0</td>\n",
              "      <td>0</td>\n",
              "      <td>0</td>\n",
              "      <td>1</td>\n",
              "      <td>0</td>\n",
              "      <td>0</td>\n",
              "      <td>0</td>\n",
              "      <td>0</td>\n",
              "      <td>0</td>\n",
              "      <td>0</td>\n",
              "      <td>0</td>\n",
              "      <td>0</td>\n",
              "      <td>0</td>\n",
              "      <td>1</td>\n",
              "    </tr>\n",
              "    <tr>\n",
              "      <th>889</th>\n",
              "      <td>1</td>\n",
              "      <td>-0.284663</td>\n",
              "      <td>0.058556</td>\n",
              "      <td>0.0</td>\n",
              "      <td>1</td>\n",
              "      <td>0</td>\n",
              "      <td>0</td>\n",
              "      <td>0</td>\n",
              "      <td>1</td>\n",
              "      <td>0</td>\n",
              "      <td>0</td>\n",
              "      <td>0</td>\n",
              "      <td>0</td>\n",
              "      <td>0</td>\n",
              "      <td>0</td>\n",
              "      <td>0</td>\n",
              "      <td>0</td>\n",
              "      <td>0</td>\n",
              "      <td>0</td>\n",
              "      <td>0</td>\n",
              "      <td>0</td>\n",
              "      <td>1</td>\n",
              "      <td>0</td>\n",
              "      <td>0</td>\n",
              "      <td>0</td>\n",
              "      <td>0</td>\n",
              "      <td>1</td>\n",
              "      <td>0</td>\n",
              "      <td>0</td>\n",
              "    </tr>\n",
              "    <tr>\n",
              "      <th>890</th>\n",
              "      <td>0</td>\n",
              "      <td>0.177063</td>\n",
              "      <td>0.015127</td>\n",
              "      <td>0.0</td>\n",
              "      <td>0</td>\n",
              "      <td>0</td>\n",
              "      <td>1</td>\n",
              "      <td>0</td>\n",
              "      <td>1</td>\n",
              "      <td>0</td>\n",
              "      <td>0</td>\n",
              "      <td>0</td>\n",
              "      <td>0</td>\n",
              "      <td>0</td>\n",
              "      <td>0</td>\n",
              "      <td>0</td>\n",
              "      <td>0</td>\n",
              "      <td>0</td>\n",
              "      <td>0</td>\n",
              "      <td>0</td>\n",
              "      <td>0</td>\n",
              "      <td>1</td>\n",
              "      <td>0</td>\n",
              "      <td>0</td>\n",
              "      <td>0</td>\n",
              "      <td>0</td>\n",
              "      <td>0</td>\n",
              "      <td>1</td>\n",
              "      <td>0</td>\n",
              "    </tr>\n",
              "  </tbody>\n",
              "</table>\n",
              "<p>891 rows × 29 columns</p>\n",
              "</div>"
            ],
            "text/plain": [
              "     Survived       Age      Fare  ...  Embarked_C  Embarked_Q  Embarked_S\n",
              "0           0 -0.592481  0.014151  ...           0           0           1\n",
              "1           1  0.638789  0.139136  ...           1           0           0\n",
              "2           1 -0.284663  0.015469  ...           0           0           1\n",
              "3           1  0.407926  0.103644  ...           0           0           1\n",
              "4           0  0.407926  0.015713  ...           0           0           1\n",
              "..        ...       ...       ...  ...         ...         ...         ...\n",
              "886         0 -0.207709  0.025374  ...           0           0           1\n",
              "887         1 -0.823344  0.058556  ...           0           0           1\n",
              "888         0  0.000000  0.045771  ...           0           0           1\n",
              "889         1 -0.284663  0.058556  ...           1           0           0\n",
              "890         0  0.177063  0.015127  ...           0           1           0\n",
              "\n",
              "[891 rows x 29 columns]"
            ]
          },
          "metadata": {},
          "execution_count": 38
        }
      ]
    },
    {
      "cell_type": "markdown",
      "metadata": {
        "id": "QhGsnsY4puYz"
      },
      "source": [
        "End of Preprocessing"
      ]
    },
    {
      "cell_type": "code",
      "metadata": {
        "id": "Wa1zcX8_pyk5"
      },
      "source": [
        ""
      ],
      "execution_count": null,
      "outputs": []
    }
  ]
}