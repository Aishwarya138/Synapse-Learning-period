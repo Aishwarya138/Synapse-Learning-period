{
  "nbformat": 4,
  "nbformat_minor": 0,
  "metadata": {
    "kernelspec": {
      "display_name": "Python 3",
      "language": "python",
      "name": "python3"
    },
    "language_info": {
      "codemirror_mode": {
        "name": "ipython",
        "version": 3
      },
      "file_extension": ".py",
      "mimetype": "text/x-python",
      "name": "python",
      "nbconvert_exporter": "python",
      "pygments_lexer": "ipython3",
      "version": "3.6.12"
    },
    "colab": {
      "name": "HMM_Tagger_Task.ipynb",
      "provenance": [],
      "collapsed_sections": [],
      "include_colab_link": true
    }
  },
  "cells": [
    {
      "cell_type": "markdown",
      "metadata": {
        "id": "view-in-github",
        "colab_type": "text"
      },
      "source": [
        "<a href=\"https://colab.research.google.com/github/Aishwarya138/Synapse-Learning-period/blob/NLP-week-3/HMM_Tagger_Task.ipynb\" target=\"_parent\"><img src=\"https://colab.research.google.com/assets/colab-badge.svg\" alt=\"Open In Colab\"/></a>"
      ]
    },
    {
      "cell_type": "markdown",
      "metadata": {
        "id": "zniL6fuBL-IT"
      },
      "source": [
        "# Part of Speech Tagging with Hidden Markov Models \n",
        "---\n",
        "### Introduction\n",
        "\n",
        "Part of speech tagging is the process of determining the syntactic category of a word from the words in its surrounding context. It is often used to help disambiguate natural language phrases because it can be done quickly with high accuracy. Tagging can be used for many NLP tasks like determining correct pronunciation during speech synthesis (for example, _dis_-count as a noun vs dis-_count_ as a verb), for information retrieval, and for word sense disambiguation.\n",
        "\n",
        "In this notebook, you'll use the [Pomegranate](http://pomegranate.readthedocs.io/) library to build a hidden Markov model for part of speech tagging using a \"universal\" tagset. Hidden Markov models have been able to achieve [>96% tag accuracy with larger tagsets on realistic text corpora](http://www.coli.uni-saarland.de/~thorsten/publications/Brants-ANLP00.pdf). Hidden Markov models have also been used for speech recognition and speech generation, machine translation, gene recognition for bioinformatics, and human gesture recognition for computer vision, and more. "
      ]
    },
    {
      "cell_type": "markdown",
      "metadata": {
        "id": "Go9VyGklL-Ic"
      },
      "source": [
        "### Study Material:\n",
        "- https://www.youtube.com/watch?v=kqSzLo9fenk\n",
        "- https://analyticsindiamag.com/a-guide-to-hidden-markov-model-and-its-applications-in-nlp/\n",
        "- https://medium.com/@kangeugine/hidden-markov-model-7681c22f5b9\n",
        "- https://medium.com/analytics-vidhya/how-to-build-a-simple-hidden-markov-models-with-pomegranate-dfa885b337fb\n",
        "- https://www.youtube.com/watch?v=6JVqutwtzmo"
      ]
    },
    {
      "cell_type": "code",
      "metadata": {
        "colab": {
          "base_uri": "https://localhost:8080/"
        },
        "id": "o2dPhkixdT8U",
        "outputId": "368c227b-f4e8-46d2-8cdb-f1cf876c8e81"
      },
      "source": [
        "url = f\"https://raw.githubusercontent.com/amanjeetsahu/Parts-of-Speech-Tagging-Using-Hidden-Markov-Models/master/helpers.py\"\n",
        "\n",
        "!wget --no-cache --backups=1 {url}"
      ],
      "execution_count": 1,
      "outputs": [
        {
          "output_type": "stream",
          "name": "stdout",
          "text": [
            "--2021-11-30 07:45:47--  https://raw.githubusercontent.com/amanjeetsahu/Parts-of-Speech-Tagging-Using-Hidden-Markov-Models/master/helpers.py\n",
            "Resolving raw.githubusercontent.com (raw.githubusercontent.com)... 185.199.111.133, 185.199.108.133, 185.199.110.133, ...\n",
            "Connecting to raw.githubusercontent.com (raw.githubusercontent.com)|185.199.111.133|:443... connected.\n",
            "HTTP request sent, awaiting response... 200 OK\n",
            "Length: 5449 (5.3K) [text/plain]\n",
            "Failed to rename helpers.py to helpers.py.1: (2) No such file or directory\n",
            "Saving to: ‘helpers.py’\n",
            "\n",
            "\rhelpers.py            0%[                    ]       0  --.-KB/s               \rhelpers.py          100%[===================>]   5.32K  --.-KB/s    in 0s      \n",
            "\n",
            "2021-11-30 07:45:47 (65.3 MB/s) - ‘helpers.py’ saved [5449/5449]\n",
            "\n"
          ]
        }
      ]
    },
    {
      "cell_type": "code",
      "metadata": {
        "colab": {
          "base_uri": "https://localhost:8080/",
          "height": 592
        },
        "id": "cUTvCIsudW2P",
        "outputId": "e28fe6ba-b7c5-4626-986f-432efd500401"
      },
      "source": [
        "!pip install pomegranate"
      ],
      "execution_count": 2,
      "outputs": [
        {
          "output_type": "stream",
          "name": "stdout",
          "text": [
            "Collecting pomegranate\n",
            "  Downloading pomegranate-0.14.7.tar.gz (4.3 MB)\n",
            "\u001b[K     |████████████████████████████████| 4.3 MB 31.2 MB/s \n",
            "\u001b[?25h  Installing build dependencies ... \u001b[?25l\u001b[?25hdone\n",
            "  Getting requirements to build wheel ... \u001b[?25l\u001b[?25hdone\n",
            "    Preparing wheel metadata ... \u001b[?25l\u001b[?25hdone\n",
            "Requirement already satisfied: scipy>=0.17.0 in /usr/local/lib/python3.7/dist-packages (from pomegranate) (1.4.1)\n",
            "Requirement already satisfied: networkx>=2.4 in /usr/local/lib/python3.7/dist-packages (from pomegranate) (2.6.3)\n",
            "Requirement already satisfied: pyyaml in /usr/local/lib/python3.7/dist-packages (from pomegranate) (3.13)\n",
            "Requirement already satisfied: joblib>=0.9.0b4 in /usr/local/lib/python3.7/dist-packages (from pomegranate) (1.1.0)\n",
            "Collecting numpy>=1.20.0\n",
            "  Using cached numpy-1.21.4-cp37-cp37m-manylinux_2_12_x86_64.manylinux2010_x86_64.whl (15.7 MB)\n",
            "Building wheels for collected packages: pomegranate\n",
            "  Building wheel for pomegranate (PEP 517) ... \u001b[?25l\u001b[?25hdone\n",
            "  Created wheel for pomegranate: filename=pomegranate-0.14.7-cp37-cp37m-linux_x86_64.whl size=14958231 sha256=25d2bb82572c0321ee9766c0f172a82da509e13df2b6f20cf14521b4742b0f55\n",
            "  Stored in directory: /root/.cache/pip/wheels/02/0a/89/e53c61d6cd9edc5d7f1b31070038ba0653f8f48b096cd46893\n",
            "Successfully built pomegranate\n",
            "Installing collected packages: numpy, pomegranate\n",
            "  Attempting uninstall: numpy\n",
            "    Found existing installation: numpy 1.19.5\n",
            "    Uninstalling numpy-1.19.5:\n",
            "      Successfully uninstalled numpy-1.19.5\n",
            "\u001b[31mERROR: pip's dependency resolver does not currently take into account all the packages that are installed. This behaviour is the source of the following dependency conflicts.\n",
            "yellowbrick 1.3.post1 requires numpy<1.20,>=1.16.0, but you have numpy 1.21.4 which is incompatible.\n",
            "datascience 0.10.6 requires folium==0.2.1, but you have folium 0.8.3 which is incompatible.\n",
            "albumentations 0.1.12 requires imgaug<0.2.7,>=0.2.5, but you have imgaug 0.2.9 which is incompatible.\u001b[0m\n",
            "Successfully installed numpy-1.21.4 pomegranate-0.14.7\n"
          ]
        },
        {
          "output_type": "display_data",
          "data": {
            "application/vnd.colab-display-data+json": {
              "pip_warning": {
                "packages": [
                  "numpy"
                ]
              }
            }
          },
          "metadata": {}
        }
      ]
    },
    {
      "cell_type": "code",
      "metadata": {
        "id": "tn_03K0JL-Ie"
      },
      "source": [
        "# import python modules -- this cell needs to be run again if you make changes to any of the files\n",
        "import matplotlib.pyplot as plt\n",
        "import numpy as np\n",
        "\n",
        "from IPython.core.display import HTML\n",
        "from collections import Counter, defaultdict\n",
        "from helpers import show_model, Dataset\n",
        "from pomegranate import State, HiddenMarkovModel, DiscreteDistribution"
      ],
      "execution_count": 1,
      "outputs": []
    },
    {
      "cell_type": "markdown",
      "metadata": {
        "id": "0Xm2HgaML-Ig"
      },
      "source": [
        "## Step 1: Read and preprocess the dataset\n",
        "---\n",
        "We'll start by reading in a text corpus and splitting it into a training and testing dataset. The data set is a copy of the [Brown corpus](https://en.wikipedia.org/wiki/Brown_Corpus) (originally from the [NLTK](https://www.nltk.org/) library) that has already been pre-processed to only include the [universal tagset](https://arxiv.org/pdf/1104.2086.pdf). You should expect to get slightly higher accuracy using this simplified tagset than the same model would achieve on a larger tagset like the full [Penn treebank tagset](https://www.ling.upenn.edu/courses/Fall_2003/ling001/penn_treebank_pos.html), but the process you'll follow would be the same.\n",
        "\n",
        "The `Dataset` class provided in helpers.py will read and parse the corpus. You can generate your own datasets compatible with the reader by writing them to the following format. The dataset is stored in plaintext as a collection of words and corresponding tags. Each sentence starts with a unique identifier on the first line, followed by one tab-separated word/tag pair on each following line. Sentences are separated by a single blank line.\n",
        "\n",
        "Example from the Brown corpus. \n",
        "```\n",
        "b100-38532\n",
        "Perhaps\tADV\n",
        "it\tPRON\n",
        "was\tVERB\n",
        "right\tADJ\n",
        ";\t.\n",
        ";\t.\n",
        "\n",
        "b100-35577\n",
        "...\n",
        "```"
      ]
    },
    {
      "cell_type": "code",
      "metadata": {
        "colab": {
          "base_uri": "https://localhost:8080/"
        },
        "id": "M91mzAuveeTB",
        "outputId": "0cafd070-b89e-4d8b-c225-ae8dc692265b"
      },
      "source": [
        "from google.colab import drive\n",
        "drive.mount('/content/drive')"
      ],
      "execution_count": 2,
      "outputs": [
        {
          "output_type": "stream",
          "name": "stdout",
          "text": [
            "Mounted at /content/drive\n"
          ]
        }
      ]
    },
    {
      "cell_type": "code",
      "metadata": {
        "id": "QYjkJxRoL-Ih",
        "colab": {
          "base_uri": "https://localhost:8080/"
        },
        "outputId": "dba25180-d549-4b1c-a7b6-0c7a0a197312"
      },
      "source": [
        "data = Dataset(\"/content/drive/MyDrive/NLP_week3/week3/part-of-speech-tagger/tags-universal.txt\",\n",
        "               \"/content/drive/MyDrive/NLP_week3/week3/part-of-speech-tagger/brown-universal.txt\",\n",
        "               train_test_split=0.8)\n",
        "\n",
        "# Complete the print statements\n",
        "\n",
        "print(\"There are {} sentences in the corpus.\".format(len(data)))\n",
        "print(\"There are {} sentences in the training set.\".format(len(data.training_set)))\n",
        "print(\"There are {} sentences in the testing set.\".format(len(data.testing_set)))\n",
        "\n",
        "assert len(data) == len(data.training_set) + len(data.testing_set), \\\n",
        "       \"The number of sentences in the training set + testing set should sum to the number of sentences in the corpus\""
      ],
      "execution_count": 3,
      "outputs": [
        {
          "output_type": "stream",
          "name": "stdout",
          "text": [
            "There are 57340 sentences in the corpus.\n",
            "There are 45872 sentences in the training set.\n",
            "There are 11468 sentences in the testing set.\n"
          ]
        }
      ]
    },
    {
      "cell_type": "markdown",
      "metadata": {
        "id": "K-63fZP5L-Ij"
      },
      "source": [
        "### The Dataset Interface\n",
        "\n",
        "You can access (mostly) immutable references to the dataset through a simple interface provided through the `Dataset` class, which represents an iterable collection of sentences along with easy access to partitions of the data for training & testing. Review the reference below, then run and review the next few cells to make sure you understand the interface before moving on to the next step.\n",
        "\n",
        "```\n",
        "Dataset-only Attributes:\n",
        "    training_set - reference to a Subset object containing the samples for training\n",
        "    testing_set - reference to a Subset object containing the samples for testing\n",
        "\n",
        "Dataset & Subset Attributes:\n",
        "    sentences - a dictionary with an entry {sentence_key: Sentence()} for each sentence in the corpus\n",
        "    keys - an immutable ordered (not sorted) collection of the sentence_keys for the corpus\n",
        "    vocab - an immutable collection of the unique words in the corpus\n",
        "    tagset - an immutable collection of the unique tags in the corpus\n",
        "    X - returns an array of words grouped by sentences ((w11, w12, w13, ...), (w21, w22, w23, ...), ...)\n",
        "    Y - returns an array of tags grouped by sentences ((t11, t12, t13, ...), (t21, t22, t23, ...), ...)\n",
        "    N - returns the number of distinct samples (individual words or tags) in the dataset\n",
        "\n",
        "Methods:\n",
        "    stream() - returns an flat iterable over all (word, tag) pairs across all sentences in the corpus\n",
        "    __iter__() - returns an iterable over the data as (sentence_key, Sentence()) pairs\n",
        "    __len__() - returns the nubmer of sentences in the dataset\n",
        "```\n",
        "\n",
        "For example, consider a Subset, `subset`, of the sentences `{\"s0\": Sentence((\"See\", \"Spot\", \"run\"), (\"VERB\", \"NOUN\", \"VERB\")), \"s1\": Sentence((\"Spot\", \"ran\"), (\"NOUN\", \"VERB\"))}`. The subset will have these attributes:\n",
        "\n",
        "```\n",
        "subset.keys == {\"s1\", \"s0\"}  # unordered\n",
        "subset.vocab == {\"See\", \"run\", \"ran\", \"Spot\"}  # unordered\n",
        "subset.tagset == {\"VERB\", \"NOUN\"}  # unordered\n",
        "subset.X == ((\"Spot\", \"ran\"), (\"See\", \"Spot\", \"run\"))  # order matches .keys\n",
        "subset.Y == ((\"NOUN\", \"VERB\"), (\"VERB\", \"NOUN\", \"VERB\"))  # order matches .keys\n",
        "subset.N == 7  # there are a total of seven observations over all sentences\n",
        "len(subset) == 2  # because there are two sentences\n",
        "```"
      ]
    },
    {
      "cell_type": "markdown",
      "metadata": {
        "id": "vQDuFDb_L-Il"
      },
      "source": [
        "**Note:** The `Dataset` class is _convenient_, but it is **not** efficient. It is not suitable for huge datasets because it stores multiple redundant copies of the same data.\n",
        "</div>"
      ]
    },
    {
      "cell_type": "markdown",
      "metadata": {
        "id": "j0YOLRt2L-Im"
      },
      "source": [
        "#### Sentences\n",
        "\n",
        "`Dataset.sentences` is a dictionary of all sentences in the training corpus, each keyed to a unique sentence identifier. Each `Sentence` is itself an object with two attributes: a tuple of the words in the sentence named `words` and a tuple of the tag corresponding to each word named `tags`."
      ]
    },
    {
      "cell_type": "code",
      "metadata": {
        "id": "B6TUUWLHL-In",
        "colab": {
          "base_uri": "https://localhost:8080/"
        },
        "outputId": "b9f2a279-8a9b-4588-a6b7-2c2a643245be"
      },
      "source": [
        "key = 'b100-38532'\n",
        "print(\"Sentence: {}\".format(key))\n",
        "print(\"words:\\n\\t{!s}\".format(data.sentences[key].words))\n",
        "print(\"tags:\\n\\t{!s}\".format(data.sentences[key].tags))"
      ],
      "execution_count": 4,
      "outputs": [
        {
          "output_type": "stream",
          "name": "stdout",
          "text": [
            "Sentence: b100-38532\n",
            "words:\n",
            "\t('Perhaps', 'it', 'was', 'right', ';', ';')\n",
            "tags:\n",
            "\t('ADV', 'PRON', 'VERB', 'ADJ', '.', '.')\n"
          ]
        }
      ]
    },
    {
      "cell_type": "markdown",
      "metadata": {
        "id": "mkr0jbxiL-Io"
      },
      "source": [
        "<div class=\"alert alert-block alert-info\">\n",
        "**Note:** The underlying iterable sequence is **unordered** over the sentences in the corpus; it is not guaranteed to return the sentences in a consistent order between calls. Use `Dataset.stream()`, `Dataset.keys`, `Dataset.X`, or `Dataset.Y` attributes if you need ordered access to the data.\n",
        "</div>\n",
        "\n",
        "#### Counting Unique Elements\n",
        "\n",
        "You can access the list of unique words (the dataset vocabulary) via `Dataset.vocab` and the unique list of tags via `Dataset.tagset`."
      ]
    },
    {
      "cell_type": "code",
      "metadata": {
        "id": "7vW0SoQkL-Ip",
        "colab": {
          "base_uri": "https://localhost:8080/"
        },
        "outputId": "893155bf-7bd3-444b-93e8-274ad50c8313"
      },
      "source": [
        "# Complete the print statements\n",
        "\n",
        "print(\"There are a total of {} samples of {} unique words in the corpus.\"\n",
        "      .format(data.N, len(data.vocab)))\n",
        "print(\"There are {} samples of {} unique words in the training set.\"\n",
        "      .format(data.training_set.N, len(data.training_set.vocab)))\n",
        "print(\"There are {} samples of {} unique words in the testing set.\"\n",
        "      .format(data.testing_set.N, len(data.testing_set.vocab)))\n",
        "print(\"There are {} words in the test set that are missing in the training set.\"\n",
        "      .format(len(data.testing_set.vocab - data.training_set.vocab)))\n",
        "\n",
        "assert data.N == data.training_set.N + data.testing_set.N, \\\n",
        "       \"The number of training + test samples should sum to the total number of samples\""
      ],
      "execution_count": 5,
      "outputs": [
        {
          "output_type": "stream",
          "name": "stdout",
          "text": [
            "There are a total of 1161192 samples of 56057 unique words in the corpus.\n",
            "There are 928458 samples of 50536 unique words in the training set.\n",
            "There are 232734 samples of 25112 unique words in the testing set.\n",
            "There are 5521 words in the test set that are missing in the training set.\n"
          ]
        }
      ]
    },
    {
      "cell_type": "markdown",
      "metadata": {
        "id": "NYG9hyjxL-Iq"
      },
      "source": [
        "#### Accessing word and tag Sequences\n",
        "The `Dataset.X` and `Dataset.Y` attributes provide access to ordered collections of matching word and tag sequences for each sentence in the dataset."
      ]
    },
    {
      "cell_type": "code",
      "metadata": {
        "id": "Y0LWVNlXL-Ir",
        "colab": {
          "base_uri": "https://localhost:8080/"
        },
        "outputId": "1f9a4dc8-38ac-4c2d-a0cd-b4b8afeaa377"
      },
      "source": [
        "# accessing words with Dataset.X and tags with Dataset.Y \n",
        "for i in range(2):    \n",
        "    print(\"Sentence {}:\".format(i + 1), data.X[i])\n",
        "    print()\n",
        "    print(\"Labels {}:\".format(i + 1), data.Y[i])\n",
        "    print()"
      ],
      "execution_count": 6,
      "outputs": [
        {
          "output_type": "stream",
          "name": "stdout",
          "text": [
            "Sentence 1: ('Mr.', 'Podger', 'had', 'thanked', 'him', 'gravely', ',', 'and', 'now', 'he', 'made', 'use', 'of', 'the', 'advice', '.')\n",
            "\n",
            "Labels 1: ('NOUN', 'NOUN', 'VERB', 'VERB', 'PRON', 'ADV', '.', 'CONJ', 'ADV', 'PRON', 'VERB', 'NOUN', 'ADP', 'DET', 'NOUN', '.')\n",
            "\n",
            "Sentence 2: ('But', 'there', 'seemed', 'to', 'be', 'some', 'difference', 'of', 'opinion', 'as', 'to', 'how', 'far', 'the', 'board', 'should', 'go', ',', 'and', 'whose', 'advice', 'it', 'should', 'follow', '.')\n",
            "\n",
            "Labels 2: ('CONJ', 'PRT', 'VERB', 'PRT', 'VERB', 'DET', 'NOUN', 'ADP', 'NOUN', 'ADP', 'ADP', 'ADV', 'ADV', 'DET', 'NOUN', 'VERB', 'VERB', '.', 'CONJ', 'DET', 'NOUN', 'PRON', 'VERB', 'VERB', '.')\n",
            "\n"
          ]
        }
      ]
    },
    {
      "cell_type": "markdown",
      "metadata": {
        "id": "nv6g9x0XL-Ir"
      },
      "source": [
        "#### Accessing (word, tag) Samples\n",
        "The `Dataset.stream()` method returns an iterator that chains together every pair of (word, tag) entries across all sentences in the entire corpus."
      ]
    },
    {
      "cell_type": "code",
      "metadata": {
        "id": "b821fqk2L-Is",
        "colab": {
          "base_uri": "https://localhost:8080/"
        },
        "outputId": "3c163ed4-7b32-4242-f3d8-087d12f0d922"
      },
      "source": [
        "# use Dataset.stream() (word, tag) samples for the entire corpus\n",
        "print(\"\\nStream (word, tag) pairs:\\n\")\n",
        "for i, pair in enumerate(data.stream()):\n",
        "    print(\"\\t\", pair)\n",
        "    if i > 5: break"
      ],
      "execution_count": 7,
      "outputs": [
        {
          "output_type": "stream",
          "name": "stdout",
          "text": [
            "\n",
            "Stream (word, tag) pairs:\n",
            "\n",
            "\t ('Mr.', 'NOUN')\n",
            "\t ('Podger', 'NOUN')\n",
            "\t ('had', 'VERB')\n",
            "\t ('thanked', 'VERB')\n",
            "\t ('him', 'PRON')\n",
            "\t ('gravely', 'ADV')\n",
            "\t (',', '.')\n"
          ]
        }
      ]
    },
    {
      "cell_type": "markdown",
      "metadata": {
        "id": "Ym7nxCzDL-Is"
      },
      "source": [
        "\n",
        "For both our baseline tagger and the HMM model we'll build, we need to estimate the frequency of tags & words from the frequency counts of observations in the training corpus. In the next several cells you will complete functions to compute the counts of several sets of counts. "
      ]
    },
    {
      "cell_type": "markdown",
      "metadata": {
        "id": "_xraO3BUL-It"
      },
      "source": [
        "## Step 2: Build a Most Frequent Class tagger\n",
        "---\n",
        "\n",
        "Perhaps the simplest tagger (and a good baseline for tagger performance) is to simply choose the tag most frequently assigned to each word. This \"most frequent class\" tagger inspects each observed word in the sequence and assigns it the label that was most often assigned to that word in the corpus."
      ]
    },
    {
      "cell_type": "markdown",
      "metadata": {
        "id": "VFY8PPGDL-It"
      },
      "source": [
        "### IMPLEMENTATION: Pair Counts\n",
        "\n",
        "Complete the function below that computes the joint frequency counts for two input sequences."
      ]
    },
    {
      "cell_type": "code",
      "metadata": {
        "id": "WH63EoB1L-Iu",
        "colab": {
          "base_uri": "https://localhost:8080/",
          "height": 34
        },
        "outputId": "4b8135fc-9cb8-40cc-d209-dfe6a69e40dd"
      },
      "source": [
        "def pair_counts(d, sequences_A, sequences_B):\n",
        "    \"\"\"Return a dictionary keyed to each unique value in the first sequence list\n",
        "    that counts the number of occurrences of the corresponding value from the\n",
        "    second sequences list.\n",
        "    \n",
        "    For example, if sequences_A is tags and sequences_B is the corresponding\n",
        "    words, then if 1244 sequences contain the word \"time\" tagged as a NOUN, then\n",
        "    you should return a dictionary such that pair_counts[NOUN][time] == 1244\n",
        "    \"\"\"\n",
        "    # TODO: Finish this function!\n",
        "    dict_tag_word = defaultdict(list)\n",
        "    for i, (tag,word) in enumerate(zip(sequences_A,sequences_B)):\n",
        "        dict_tag_word[tag].append(word)\n",
        "    for k in dict_tag_word.keys():\n",
        "        d[k] = Counter(dict_tag_word[k])\n",
        "    \n",
        "    return d\n",
        "    \n",
        "# Calculate C(t_i, w_i)\n",
        "d = {}\n",
        "for i in data.training_set.tagset:\n",
        "    d[i] = {}\n",
        "        \n",
        "a = [item for sublist in data.training_set.Y for item in sublist]\n",
        "b = [item for sublist in data.training_set.X for item in sublist]\n",
        "\n",
        "emission_counts = pair_counts(d, a, b)\n",
        "\n",
        "assert len(emission_counts) == 12, \\\n",
        "       \"Uh oh. There should be 12 tags in your dictionary.\"\n",
        "assert max(emission_counts[\"NOUN\"], key=emission_counts[\"NOUN\"].get) == 'time', \\\n",
        "       \"Hmmm...'time' is expected to be the most common NOUN.\"\n",
        "HTML('<div class=\"alert alert-block alert-success\">Your emission counts look good!</div>')"
      ],
      "execution_count": 8,
      "outputs": [
        {
          "output_type": "execute_result",
          "data": {
            "text/html": [
              "<div class=\"alert alert-block alert-success\">Your emission counts look good!</div>"
            ],
            "text/plain": [
              "<IPython.core.display.HTML object>"
            ]
          },
          "metadata": {},
          "execution_count": 8
        }
      ]
    },
    {
      "cell_type": "markdown",
      "metadata": {
        "id": "Jm50jD5GL-Iv"
      },
      "source": [
        "### IMPLEMENTATION: Most Frequent Class Tagger\n",
        "\n",
        "Use the `pair_counts()` function and the training dataset to find the most frequent class label for each word in the training data, and populate the `mfc_table` below. The table keys should be words, and the values should be the appropriate tag string.\n",
        "\n",
        "The `MFCTagger` class is provided to mock the interface of Pomegranite HMM models so that they can be used interchangeably."
      ]
    },
    {
      "cell_type": "code",
      "metadata": {
        "id": "1scNgjTjL-Iv",
        "colab": {
          "base_uri": "https://localhost:8080/",
          "height": 34
        },
        "outputId": "af5d473b-9773-4d49-8666-7cbac41dfd20"
      },
      "source": [
        "# Create a lookup table mfc_table where mfc_table[word] contains the tag label most frequently assigned to that word\n",
        "from collections import namedtuple\n",
        "import operator\n",
        "FakeState = namedtuple(\"FakeState\", \"name\")\n",
        "\n",
        "class MFCTagger:\n",
        "    # NOTE: You should not need to modify this class or any of its methods\n",
        "    missing = FakeState(name=\"<MISSING>\")\n",
        "    \n",
        "    def __init__(self, table):\n",
        "        self.table = defaultdict(lambda: MFCTagger.missing)\n",
        "        self.table.update({word: FakeState(name=tag) for word, tag in table.items()})\n",
        "        \n",
        "    def viterbi(self, seq):\n",
        "        \"\"\"This method simplifies predictions by matching the Pomegranate viterbi() interface\"\"\"\n",
        "        return 0., list(enumerate([\"<start>\"] + [self.table[w] for w in seq] + [\"<end>\"]))\n",
        "\n",
        "\n",
        "# TODO: calculate the frequency of each tag being assigned to each word (hint: similar, but not\n",
        "# the same as the emission probabilities) and use it to fill the mfc_table\n",
        "\n",
        "d = {}\n",
        "for i in data.training_set.vocab:\n",
        "    d[i] = {}\n",
        "word_counts = pair_counts(d, b, a)\n",
        "\n",
        "mfc_table = {}\n",
        "key_list = list(data.training_set.vocab)\n",
        "for i in key_list:\n",
        "    mfc_table[i] = max(word_counts[i].items(), key=operator.itemgetter(1))[0] \n",
        "\n",
        "# DO NOT MODIFY BELOW THIS LINE\n",
        "mfc_model = MFCTagger(mfc_table) # Create a Most Frequent Class tagger instance\n",
        "\n",
        "assert len(mfc_table) == len(data.training_set.vocab), \"\"\n",
        "assert all(k in data.training_set.vocab for k in mfc_table.keys()), \"\"\n",
        "assert sum(int(k not in mfc_table) for k in data.testing_set.vocab) == 5521, \"\"\n",
        "HTML('<div class=\"alert alert-block alert-success\">Your MFC tagger has all the correct words!</div>')"
      ],
      "execution_count": 9,
      "outputs": [
        {
          "output_type": "execute_result",
          "data": {
            "text/html": [
              "<div class=\"alert alert-block alert-success\">Your MFC tagger has all the correct words!</div>"
            ],
            "text/plain": [
              "<IPython.core.display.HTML object>"
            ]
          },
          "metadata": {},
          "execution_count": 9
        }
      ]
    },
    {
      "cell_type": "markdown",
      "metadata": {
        "id": "5DM53mw1L-Iw"
      },
      "source": [
        "### Making Predictions with a Model\n",
        "The helper functions provided below interface with Pomegranate network models & the mocked MFCTagger to take advantage of the [missing value](http://pomegranate.readthedocs.io/en/latest/nan.html) functionality in Pomegranate through a simple sequence decoding function. Run these functions, then run the next cell to see some of the predictions made by the MFC tagger."
      ]
    },
    {
      "cell_type": "code",
      "metadata": {
        "id": "EVr25xiTL-Iw"
      },
      "source": [
        "def replace_unknown(sequence):\n",
        "    \"\"\"Return a copy of the input sequence where each unknown word is replaced\n",
        "    by the literal string value 'nan'. Pomegranate will ignore these values\n",
        "    during computation.\n",
        "    \"\"\"\n",
        "    return [w if w in data.training_set.vocab else 'nan' for w in sequence]\n",
        "\n",
        "def simplify_decoding(X, model):\n",
        "    \"\"\"X should be a 1-D sequence of observations for the model to predict\"\"\"\n",
        "    _, state_path = model.viterbi(replace_unknown(X))\n",
        "    return [state[1].name for state in state_path[1:-1]]  # do not show the start/end state predictions"
      ],
      "execution_count": 10,
      "outputs": []
    },
    {
      "cell_type": "markdown",
      "metadata": {
        "id": "F2M_Y1EpL-Ix"
      },
      "source": [
        "### Example Decoding Sequences with MFC Tagger"
      ]
    },
    {
      "cell_type": "code",
      "metadata": {
        "id": "SCU6TMPpL-Iy",
        "colab": {
          "base_uri": "https://localhost:8080/"
        },
        "outputId": "dafb1d48-e956-48a3-b597-95fa20c77e11"
      },
      "source": [
        "for key in data.testing_set.keys[:3]:\n",
        "    print(\"Sentence Key: {}\\n\".format(key))\n",
        "    print(\"Predicted labels:\\n-----------------\")\n",
        "    print(simplify_decoding(data.sentences[key].words, mfc_model))\n",
        "    print()\n",
        "    print(\"Actual labels:\\n--------------\")\n",
        "    print(data.sentences[key].tags)\n",
        "    print(\"\\n\")"
      ],
      "execution_count": 11,
      "outputs": [
        {
          "output_type": "stream",
          "name": "stdout",
          "text": [
            "Sentence Key: b100-28144\n",
            "\n",
            "Predicted labels:\n",
            "-----------------\n",
            "['CONJ', 'NOUN', 'NUM', '.', 'NOUN', 'NUM', '.', 'NOUN', 'NUM', '.', 'CONJ', 'NOUN', 'NUM', '.', '.', 'NOUN', '.', '.']\n",
            "\n",
            "Actual labels:\n",
            "--------------\n",
            "('CONJ', 'NOUN', 'NUM', '.', 'NOUN', 'NUM', '.', 'NOUN', 'NUM', '.', 'CONJ', 'NOUN', 'NUM', '.', '.', 'NOUN', '.', '.')\n",
            "\n",
            "\n",
            "Sentence Key: b100-23146\n",
            "\n",
            "Predicted labels:\n",
            "-----------------\n",
            "['PRON', 'VERB', 'DET', 'NOUN', 'ADP', 'ADJ', 'ADJ', 'NOUN', 'VERB', 'VERB', '.', 'ADP', 'VERB', 'DET', 'NOUN', 'ADP', 'NOUN', 'ADP', 'DET', 'NOUN', '.']\n",
            "\n",
            "Actual labels:\n",
            "--------------\n",
            "('PRON', 'VERB', 'DET', 'NOUN', 'ADP', 'ADJ', 'ADJ', 'NOUN', 'VERB', 'VERB', '.', 'ADP', 'VERB', 'DET', 'NOUN', 'ADP', 'NOUN', 'ADP', 'DET', 'NOUN', '.')\n",
            "\n",
            "\n",
            "Sentence Key: b100-35462\n",
            "\n",
            "Predicted labels:\n",
            "-----------------\n",
            "['DET', 'ADJ', 'NOUN', 'VERB', 'VERB', 'VERB', 'ADP', 'DET', 'ADJ', 'ADJ', 'NOUN', 'ADP', 'DET', 'ADJ', 'NOUN', '.', 'ADP', 'ADJ', 'NOUN', '.', 'CONJ', 'ADP', 'DET', '<MISSING>', 'ADP', 'ADJ', 'ADJ', '.', 'ADJ', '.', 'CONJ', 'ADJ', 'NOUN', 'ADP', 'ADV', 'NOUN', '.']\n",
            "\n",
            "Actual labels:\n",
            "--------------\n",
            "('DET', 'ADJ', 'NOUN', 'VERB', 'VERB', 'VERB', 'ADP', 'DET', 'ADJ', 'ADJ', 'NOUN', 'ADP', 'DET', 'ADJ', 'NOUN', '.', 'ADP', 'ADJ', 'NOUN', '.', 'CONJ', 'ADP', 'DET', 'NOUN', 'ADP', 'ADJ', 'ADJ', '.', 'ADJ', '.', 'CONJ', 'ADJ', 'NOUN', 'ADP', 'ADJ', 'NOUN', '.')\n",
            "\n",
            "\n"
          ]
        }
      ]
    },
    {
      "cell_type": "markdown",
      "metadata": {
        "id": "XIXzPwYwL-Iy"
      },
      "source": [
        "### Evaluating Model Accuracy\n",
        "\n",
        "The function below will evaluate the accuracy of the MFC tagger on the collection of all sentences from a text corpus. "
      ]
    },
    {
      "cell_type": "code",
      "metadata": {
        "id": "hbmnA-K4L-Iz"
      },
      "source": [
        "def accuracy(X, Y, model):\n",
        "    \"\"\"Calculate the prediction accuracy by using the model to decode each sequence\n",
        "    in the input X and comparing the prediction with the true labels in Y.\n",
        "    \n",
        "    The X should be an array whose first dimension is the number of sentences to test,\n",
        "    and each element of the array should be an iterable of the words in the sequence.\n",
        "    The arrays X and Y should have the exact same shape.\n",
        "    \n",
        "    X = [(\"See\", \"Spot\", \"run\"), (\"Run\", \"Spot\", \"run\", \"fast\"), ...]\n",
        "    Y = [(), (), ...]\n",
        "    \"\"\"\n",
        "    correct = total_predictions = 0\n",
        "    for observations, actual_tags in zip(X, Y):\n",
        "        \n",
        "        # The model.viterbi call in simplify_decoding will return None if the HMM\n",
        "        # raises an error (for example, if a test sentence contains a word that\n",
        "        # is out of vocabulary for the training set). Any exception counts the\n",
        "        # full sentence as an error (which makes this a conservative estimate).\n",
        "        try:\n",
        "            most_likely_tags = simplify_decoding(observations, model)\n",
        "            correct += sum(p == t for p, t in zip(most_likely_tags, actual_tags))\n",
        "        except:\n",
        "            pass\n",
        "        total_predictions += len(observations)\n",
        "    return correct / total_predictions"
      ],
      "execution_count": 12,
      "outputs": []
    },
    {
      "cell_type": "markdown",
      "metadata": {
        "id": "W5RCCfX-L-Iz"
      },
      "source": [
        "#### Evaluate the accuracy of the MFC tagger\n",
        "Run the next cell to evaluate the accuracy of the tagger on the training and test corpus."
      ]
    },
    {
      "cell_type": "code",
      "metadata": {
        "id": "CAXI_pXLL-Iz",
        "colab": {
          "base_uri": "https://localhost:8080/",
          "height": 69
        },
        "outputId": "0410845a-ffbd-4603-f157-e13d46a8be1e"
      },
      "source": [
        "# Complete the code\n",
        "mfc_training_acc = accuracy(data.training_set.X, data.training_set.Y, mfc_model)\n",
        "print(\"training accuracy mfc_model: {:.2f}%\".format(100 * mfc_training_acc))\n",
        "\n",
        "mfc_testing_acc = accuracy(data.testing_set.X, data.testing_set.Y, mfc_model)\n",
        "print(\"testing accuracy mfc_model: {:.2f}%\".format(100 * mfc_testing_acc))\n",
        "\n",
        "assert mfc_training_acc >= 0.955, \"Uh oh. Your MFC accuracy on the training set doesn't look right.\"\n",
        "assert mfc_testing_acc >= 0.925, \"Uh oh. Your MFC accuracy on the testing set doesn't look right.\"\n",
        "HTML('<div class=\"alert alert-block alert-success\">Your MFC tagger accuracy looks correct!</div>')"
      ],
      "execution_count": 13,
      "outputs": [
        {
          "output_type": "stream",
          "name": "stdout",
          "text": [
            "training accuracy mfc_model: 95.72%\n",
            "testing accuracy mfc_model: 93.01%\n"
          ]
        },
        {
          "output_type": "execute_result",
          "data": {
            "text/html": [
              "<div class=\"alert alert-block alert-success\">Your MFC tagger accuracy looks correct!</div>"
            ],
            "text/plain": [
              "<IPython.core.display.HTML object>"
            ]
          },
          "metadata": {},
          "execution_count": 13
        }
      ]
    },
    {
      "cell_type": "markdown",
      "metadata": {
        "id": "zMLMU7XLL-I0"
      },
      "source": [
        "## Step 3: Build an HMM tagger\n",
        "---\n",
        "The HMM tagger has one hidden state for each possible tag, and parameterized by two distributions: the emission probabilties giving the conditional probability of observing a given **word** from each hidden state, and the transition probabilities giving the conditional probability of moving between **tags** during the sequence.\n",
        "\n",
        "We will also estimate the starting probability distribution (the probability of each **tag** being the first tag in a sequence), and the terminal probability distribution (the probability of each **tag** being the last tag in a sequence).\n",
        "\n",
        "The maximum likelihood estimate of these distributions can be calculated from the frequency counts as described in the following sections where you'll implement functions to count the frequencies, and finally build the model. The HMM model will make predictions according to the formula:\n",
        "\n",
        "$$t_i^n = \\underset{t_i^n}{\\mathrm{argmax}} \\prod_{i=1}^n P(w_i|t_i) P(t_i|t_{i-1})$$\n",
        "\n",
        "Refer to Speech & Language Processing [Chapter 10](https://web.stanford.edu/~jurafsky/slp3/10.pdf) for more information."
      ]
    },
    {
      "cell_type": "markdown",
      "metadata": {
        "id": "l7JlbfrSL-I0"
      },
      "source": [
        "### IMPLEMENTATION: Unigram Counts\n",
        "\n",
        "Complete the function below to estimate the co-occurrence frequency of each symbol over all of the input sequences. The unigram probabilities in our HMM model are estimated from the formula below, where N is the total number of samples in the input. (You only need to compute the counts for now.)\n",
        "\n",
        "$$P(tag_1) = \\frac{C(tag_1)}{N}$$"
      ]
    },
    {
      "cell_type": "code",
      "metadata": {
        "id": "35MBxgJdL-I1",
        "colab": {
          "base_uri": "https://localhost:8080/",
          "height": 34
        },
        "outputId": "6b9246d5-ab4a-48fe-c9be-86d7aecc5379"
      },
      "source": [
        "import collections\n",
        "\n",
        "def unigram_counts(sequences):\n",
        "    \"\"\"Return a dictionary keyed to each unique value in the input sequence list that\n",
        "    counts the number of occurrences of the value in the sequences list. The sequences\n",
        "    collection should be a 2-dimensional array.\n",
        "    \n",
        "    For example, if the tag NOUN appears 275558 times over all the input sequences,\n",
        "    then you should return a dictionary such that your_unigram_counts[NOUN] == 275558.\n",
        "    \"\"\"\n",
        "    # TODO: Finish this function!\n",
        "    dic = collections.Counter(sequences) \n",
        "    return dict(dic)\n",
        "\n",
        "# TODO: call unigram_counts with a list of tag sequences from the training set\n",
        "tag_unigrams = unigram_counts([item for sublist in data.training_set.Y for item in sublist])\n",
        "\n",
        "assert set(tag_unigrams.keys()) == data.training_set.tagset, \\\n",
        "       \"Uh oh. It looks like your tag counts doesn't include all the tags!\"\n",
        "assert min(tag_unigrams, key=tag_unigrams.get) == 'X', \\\n",
        "       \"Hmmm...'X' is expected to be the least common class\"\n",
        "assert max(tag_unigrams, key=tag_unigrams.get) == 'NOUN', \\\n",
        "       \"Hmmm...'NOUN' is expected to be the most common class\"\n",
        "HTML('<div class=\"alert alert-block alert-success\">Your tag unigrams look good!</div>')"
      ],
      "execution_count": 14,
      "outputs": [
        {
          "output_type": "execute_result",
          "data": {
            "text/html": [
              "<div class=\"alert alert-block alert-success\">Your tag unigrams look good!</div>"
            ],
            "text/plain": [
              "<IPython.core.display.HTML object>"
            ]
          },
          "metadata": {},
          "execution_count": 14
        }
      ]
    },
    {
      "cell_type": "markdown",
      "metadata": {
        "id": "3gRzUK2sL-I1"
      },
      "source": [
        "### IMPLEMENTATION: Bigram Counts\n",
        "\n",
        "Complete the function below to estimate the co-occurrence frequency of each pair of symbols in each of the input sequences. These counts are used in the HMM model to estimate the bigram probability of two tags from the frequency counts according to the formula: $$P(tag_2|tag_1) = \\frac{C(tag_2|tag_1)}{C(tag_2)}$$\n"
      ]
    },
    {
      "cell_type": "code",
      "metadata": {
        "id": "Es3BcRIHL-I2",
        "colab": {
          "base_uri": "https://localhost:8080/",
          "height": 34
        },
        "outputId": "c1f87b1b-520c-47f3-9af7-559132d2def9"
      },
      "source": [
        "def bigram_counts(sequences):\n",
        "    \"\"\"Return a dictionary keyed to each unique PAIR of values in the input sequences\n",
        "    list that counts the number of occurrences of pair in the sequences list. The input\n",
        "    should be a 2-dimensional array.\n",
        "    \n",
        "    For example, if the pair of tags (NOUN, VERB) appear 61582 times, then you should\n",
        "    return a dictionary such that your_bigram_counts[(NOUN, VERB)] == 61582\n",
        "    \"\"\"\n",
        "    d = {}\n",
        "    for i in data.training_set.tagset:\n",
        "        for j in data.training_set.tagset:\n",
        "            d[(i, j)] = 0\n",
        "    \n",
        "    # TODO: Finish this function!\n",
        "    for i in range(len(sequences) - 1):\n",
        "        d[(sequences[i], sequences[i+1])] = d[(sequences[i], sequences[i+1])] + 1\n",
        "                        \n",
        "    return d\n",
        "\n",
        "# TODO: call bigram_counts with a list of tag sequences from the training set\n",
        "tag_bigrams = bigram_counts([item for sublist in data.training_set.Y for item in sublist])\n",
        "\n",
        "assert len(tag_bigrams) == 144, \\\n",
        "       \"Uh oh. There should be 144 pairs of bigrams (12 tags x 12 tags)\"\n",
        "assert min(tag_bigrams, key=tag_bigrams.get) in [('X', 'NUM'), ('PRON', 'X')], \\\n",
        "       \"Hmmm...The least common bigram should be one of ('X', 'NUM') or ('PRON', 'X').\"\n",
        "assert max(tag_bigrams, key=tag_bigrams.get) in [('DET', 'NOUN')], \\\n",
        "       \"Hmmm...('DET', 'NOUN') is expected to be the most common bigram.\"\n",
        "HTML('<div class=\"alert alert-block alert-success\">Your tag bigrams look good!</div>')"
      ],
      "execution_count": 15,
      "outputs": [
        {
          "output_type": "execute_result",
          "data": {
            "text/html": [
              "<div class=\"alert alert-block alert-success\">Your tag bigrams look good!</div>"
            ],
            "text/plain": [
              "<IPython.core.display.HTML object>"
            ]
          },
          "metadata": {},
          "execution_count": 15
        }
      ]
    },
    {
      "cell_type": "markdown",
      "metadata": {
        "id": "O_wDvfvtL-I2"
      },
      "source": [
        "### IMPLEMENTATION: Sequence Starting Counts\n",
        "Complete the code below to estimate the bigram probabilities of a sequence starting with each tag."
      ]
    },
    {
      "cell_type": "code",
      "metadata": {
        "id": "LEMI1xmeL-I2",
        "colab": {
          "base_uri": "https://localhost:8080/",
          "height": 34
        },
        "outputId": "36772a63-1903-4be5-d65c-9bf5f424225f"
      },
      "source": [
        "def starting_counts(sequences):\n",
        "    \"\"\"Return a dictionary keyed to each unique value in the input sequences list\n",
        "    that counts the number of occurrences where that value is at the beginning of\n",
        "    a sequence.\n",
        "    \n",
        "    For example, if 8093 sequences start with NOUN, then you should return a\n",
        "    dictionary such that your_starting_counts[NOUN] == 8093\n",
        "    \"\"\"\n",
        "    # TODO: Finish this function!\n",
        "    d = {}\n",
        "    for i in range(len(sequences)):\n",
        "        d[sequences[i][0]] = d.get(sequences[i][0], 0) + 1\n",
        "        \n",
        "    return d\n",
        "# TODO: Calculate the count of each tag starting a sequence\n",
        "\n",
        "tag_starts = starting_counts(data.training_set.Y)\n",
        "\n",
        "assert len(tag_starts) == 12, \"Uh oh. There should be 12 tags in your dictionary.\"\n",
        "assert min(tag_starts, key=tag_starts.get) == 'X', \"Hmmm...'X' is expected to be the least common starting bigram.\"\n",
        "assert max(tag_starts, key=tag_starts.get) == 'DET', \"Hmmm...'DET' is expected to be the most common starting bigram.\"\n",
        "HTML('<div class=\"alert alert-block alert-success\">Your starting tag counts look good!</div>')"
      ],
      "execution_count": 16,
      "outputs": [
        {
          "output_type": "execute_result",
          "data": {
            "text/html": [
              "<div class=\"alert alert-block alert-success\">Your starting tag counts look good!</div>"
            ],
            "text/plain": [
              "<IPython.core.display.HTML object>"
            ]
          },
          "metadata": {},
          "execution_count": 16
        }
      ]
    },
    {
      "cell_type": "markdown",
      "metadata": {
        "id": "CbztQTmwL-I3"
      },
      "source": [
        "### IMPLEMENTATION: Sequence Ending Counts\n",
        "Complete the function below to estimate the bigram probabilities of a sequence ending with each tag."
      ]
    },
    {
      "cell_type": "code",
      "metadata": {
        "id": "Rs0RC3WnL-I3",
        "colab": {
          "base_uri": "https://localhost:8080/",
          "height": 34
        },
        "outputId": "b69a05ab-2f93-4bc6-cccb-c741686f0c47"
      },
      "source": [
        "def ending_counts(sequences):\n",
        "    \"\"\"Return a dictionary keyed to each unique value in the input sequences list\n",
        "    that counts the number of occurrences where that value is at the end of\n",
        "    a sequence.\n",
        "    \n",
        "    For example, if 18 sequences end with DET, then you should return a\n",
        "    dictionary such that your_starting_counts[DET] == 18\n",
        "    \"\"\"\n",
        "    # TODO: Finish this function!\n",
        "    d = {}\n",
        "    for i in range(len(sequences)):\n",
        "        d[sequences[i][-1]] = d.get(sequences[i][-1], 0) + 1\n",
        "        \n",
        "    return d\n",
        "\n",
        "# TODO: Calculate the count of each tag ending a sequence\n",
        "tag_ends = ending_counts(data.training_set.Y)\n",
        "\n",
        "assert len(tag_ends) == 12, \"Uh oh. There should be 12 tags in your dictionary.\"\n",
        "assert min(tag_ends, key=tag_ends.get) in ['X', 'CONJ'], \"Hmmm...'X' or 'CONJ' should be the least common ending bigram.\"\n",
        "assert max(tag_ends, key=tag_ends.get) == '.', \"Hmmm...'.' is expected to be the most common ending bigram.\"\n",
        "HTML('<div class=\"alert alert-block alert-success\">Your ending tag counts look good!</div>')"
      ],
      "execution_count": 17,
      "outputs": [
        {
          "output_type": "execute_result",
          "data": {
            "text/html": [
              "<div class=\"alert alert-block alert-success\">Your ending tag counts look good!</div>"
            ],
            "text/plain": [
              "<IPython.core.display.HTML object>"
            ]
          },
          "metadata": {},
          "execution_count": 17
        }
      ]
    },
    {
      "cell_type": "markdown",
      "metadata": {
        "id": "vQUeMeqsL-I4"
      },
      "source": [
        "### IMPLEMENTATION: Basic HMM Tagger\n",
        "Use the tag unigrams and bigrams calculated above to construct a hidden Markov tagger.\n",
        "\n",
        "- Add one state per tag\n",
        "    - The emission distribution at each state should be estimated with the formula: $P(w|t) = \\frac{C(t, w)}{C(t)}$\n",
        "- Add an edge from the starting state `basic_model.start` to each tag\n",
        "    - The transition probability should be estimated with the formula: $P(t|start) = \\frac{C(start, t)}{C(start)}$\n",
        "- Add an edge from each tag to the end state `basic_model.end`\n",
        "    - The transition probability should be estimated with the formula: $P(end|t) = \\frac{C(t, end)}{C(t)}$\n",
        "- Add an edge between _every_ pair of tags\n",
        "    - The transition probability should be estimated with the formula: $P(t_2|t_1) = \\frac{C(t_1, t_2)}{C(t_1)}$"
      ]
    },
    {
      "cell_type": "code",
      "metadata": {
        "id": "5SzkMwrfL-I4",
        "colab": {
          "base_uri": "https://localhost:8080/",
          "height": 34
        },
        "outputId": "986e0f00-7588-4767-9dde-0e43306ceecb"
      },
      "source": [
        "basic_model = HiddenMarkovModel(name=\"base-hmm-tagger\")\n",
        "# Create states with emission probability distributions P(word | tag) and add to the model\n",
        "# We have done this for you to help you get started.\n",
        "states_list = {}\n",
        "for i in tag_unigrams.keys():\n",
        "    for j in emission_counts[i].keys():\n",
        "        emission_counts[i][j] = emission_counts[i].get(j)/tag_unigrams[i]\n",
        "        \n",
        "    dic = emission_counts[i]\n",
        "    emissions = DiscreteDistribution(dict(dic))\n",
        "    state = State(emissions, name=i)\n",
        "    basic_model.add_state(state)\n",
        "    states_list[i] = state\n",
        "\n",
        "# TODO: add edges between states for the observed transition frequencies P(tag_i | tag_i-1)\n",
        "# (Hint: you may need to loop & add transitions\n",
        "# Step 1: Add an edge from the starting state basic_model.start to each tag\n",
        "total_start = 0\n",
        "for i in tag_starts.keys():\n",
        "    total_start += tag_starts.get(i,0)\n",
        "  \n",
        "for i in tag_unigrams.keys():\n",
        "    basic_model.add_transition(basic_model.start, states_list[i], tag_starts.get(i)/total_start)\n",
        "\n",
        "# Step 2: Add an edge from each tag to the end state basic_model.end      \n",
        "total_end = 0\n",
        "for i in tag_ends.keys():\n",
        "    total_end += tag_ends.get(i,0)\n",
        "    \n",
        "for i in tag_ends.keys():\n",
        "    basic_model.add_transition(states_list[i], basic_model.end, tag_ends.get(i)/total_end)\n",
        "\n",
        "# Step 3: Add an edge between every pair of tags\n",
        "total_bi = 0\n",
        "for i in tag_unigrams.keys():\n",
        "    for j in tag_unigrams.keys():\n",
        "        total_bi += tag_bigrams.get((i,j))\n",
        "        \n",
        "for i in tag_unigrams.keys():\n",
        "    for j in tag_unigrams.keys():\n",
        "        basic_model.add_transition(states_list[i], states_list[j], tag_bigrams.get((i,j))/total_bi)\n",
        "\n",
        "# NOTE: YOU SHOULD NOT NEED TO MODIFY ANYTHING BELOW THIS LINE\n",
        "# finalize the model\n",
        "basic_model.bake()\n",
        "\n",
        "assert all(tag in set(s.name for s in basic_model.states) for tag in data.training_set.tagset), \\\n",
        "       \"Every state in your network should use the name of the associated tag, which must be one of the training set tags.\"\n",
        "assert basic_model.edge_count() == 168, \\\n",
        "       (\"Your network should have an edge from the start node to each state, one edge between every \" +\n",
        "        \"pair of tags (states), and an edge from each state to the end node.\")\n",
        "HTML('<div class=\"alert alert-block alert-success\">Your HMM network topology looks good!</div>')"
      ],
      "execution_count": 18,
      "outputs": [
        {
          "output_type": "execute_result",
          "data": {
            "text/html": [
              "<div class=\"alert alert-block alert-success\">Your HMM network topology looks good!</div>"
            ],
            "text/plain": [
              "<IPython.core.display.HTML object>"
            ]
          },
          "metadata": {},
          "execution_count": 18
        }
      ]
    },
    {
      "cell_type": "code",
      "metadata": {
        "scrolled": true,
        "id": "pNhRqV5oL-I5",
        "colab": {
          "base_uri": "https://localhost:8080/"
        },
        "outputId": "5446d4c3-3be6-4cb7-f005-d6f7c6f5f249"
      },
      "source": [
        "hmm_training_acc = accuracy(data.training_set.X, data.training_set.Y, basic_model)\n",
        "print(\"training accuracy basic hmm model: {:.2f}%\".format(100 * hmm_training_acc))\n",
        "\n",
        "hmm_testing_acc = accuracy(data.testing_set.X, data.testing_set.Y, basic_model)\n",
        "print(\"testing accuracy basic hmm model: {:.2f}%\".format(100 * hmm_testing_acc))\n",
        "\n",
        "try:\n",
        "   assert hmm_training_acc > 0.97, \"Uh oh. Your HMM accuracy on the training set doesn't look right.\"\n",
        "   assert hmm_testing_acc > 0.955, \"Uh oh. Your HMM accuracy on the testing set doesn't look right.\"\n",
        "   HTML('<div class=\"alert alert-block alert-success\">Your HMM tagger accuracy looks correct! Congratulations, you\\'ve finished the project.</div>')\n",
        "\n",
        "except AssertionError as msg:\n",
        "    print(msg)"
      ],
      "execution_count": 19,
      "outputs": [
        {
          "output_type": "stream",
          "name": "stdout",
          "text": [
            "training accuracy basic hmm model: 97.52%\n",
            "testing accuracy basic hmm model: 95.97%\n"
          ]
        }
      ]
    },
    {
      "cell_type": "markdown",
      "metadata": {
        "id": "hPpP59gxL-I6"
      },
      "source": [
        "### Example Decoding Sequences with the HMM Tagger"
      ]
    },
    {
      "cell_type": "code",
      "metadata": {
        "id": "odUIYTYhL-I6",
        "colab": {
          "base_uri": "https://localhost:8080/"
        },
        "outputId": "0c46799f-b870-4b13-acde-a2b7d204d9f9"
      },
      "source": [
        "for key in data.testing_set.keys[:3]:\n",
        "    print(\"Sentence Key: {}\\n\".format(key))\n",
        "    print(\"Predicted labels:\\n-----------------\")\n",
        "    print(simplify_decoding(data.sentences[key].words, basic_model))\n",
        "    print()\n",
        "    print(\"Actual labels:\\n--------------\")\n",
        "    print(data.sentences[key].tags)\n",
        "    print(\"\\n\")"
      ],
      "execution_count": 20,
      "outputs": [
        {
          "output_type": "stream",
          "name": "stdout",
          "text": [
            "Sentence Key: b100-28144\n",
            "\n",
            "Predicted labels:\n",
            "-----------------\n",
            "['CONJ', 'NOUN', 'NUM', '.', 'NOUN', 'NUM', '.', 'NOUN', 'NUM', '.', 'CONJ', 'NOUN', 'NUM', '.', '.', 'NOUN', '.', '.']\n",
            "\n",
            "Actual labels:\n",
            "--------------\n",
            "('CONJ', 'NOUN', 'NUM', '.', 'NOUN', 'NUM', '.', 'NOUN', 'NUM', '.', 'CONJ', 'NOUN', 'NUM', '.', '.', 'NOUN', '.', '.')\n",
            "\n",
            "\n",
            "Sentence Key: b100-23146\n",
            "\n",
            "Predicted labels:\n",
            "-----------------\n",
            "['PRON', 'VERB', 'DET', 'NOUN', 'ADP', 'ADJ', 'ADJ', 'NOUN', 'VERB', 'VERB', '.', 'ADP', 'VERB', 'DET', 'NOUN', 'ADP', 'NOUN', 'ADP', 'DET', 'NOUN', '.']\n",
            "\n",
            "Actual labels:\n",
            "--------------\n",
            "('PRON', 'VERB', 'DET', 'NOUN', 'ADP', 'ADJ', 'ADJ', 'NOUN', 'VERB', 'VERB', '.', 'ADP', 'VERB', 'DET', 'NOUN', 'ADP', 'NOUN', 'ADP', 'DET', 'NOUN', '.')\n",
            "\n",
            "\n",
            "Sentence Key: b100-35462\n",
            "\n",
            "Predicted labels:\n",
            "-----------------\n",
            "['DET', 'ADJ', 'NOUN', 'VERB', 'VERB', 'VERB', 'ADP', 'DET', 'ADJ', 'ADJ', 'NOUN', 'ADP', 'DET', 'ADJ', 'NOUN', '.', 'ADP', 'ADJ', 'NOUN', '.', 'CONJ', 'ADP', 'DET', 'NOUN', 'ADP', 'ADJ', 'ADJ', '.', 'ADJ', '.', 'CONJ', 'ADJ', 'NOUN', 'ADP', 'ADJ', 'NOUN', '.']\n",
            "\n",
            "Actual labels:\n",
            "--------------\n",
            "('DET', 'ADJ', 'NOUN', 'VERB', 'VERB', 'VERB', 'ADP', 'DET', 'ADJ', 'ADJ', 'NOUN', 'ADP', 'DET', 'ADJ', 'NOUN', '.', 'ADP', 'ADJ', 'NOUN', '.', 'CONJ', 'ADP', 'DET', 'NOUN', 'ADP', 'ADJ', 'ADJ', '.', 'ADJ', '.', 'CONJ', 'ADJ', 'NOUN', 'ADP', 'ADJ', 'NOUN', '.')\n",
            "\n",
            "\n"
          ]
        }
      ]
    },
    {
      "cell_type": "markdown",
      "metadata": {
        "id": "1IDBSa2VL-I6"
      },
      "source": [
        "## Step 4: [Optional] Improving model performance\n",
        "---\n",
        "There are additional enhancements that can be incorporated into your tagger that improve performance on larger tagsets where the data sparsity problem is more significant. The data sparsity problem arises because the same amount of data split over more tags means there will be fewer samples in each tag, and there will be more missing data  tags that have zero occurrences in the data. The techniques in this section are optional.\n",
        "\n",
        "- [Laplace Smoothing](https://en.wikipedia.org/wiki/Additive_smoothing) (pseudocounts)\n",
        "    Laplace smoothing is a technique where you add a small, non-zero value to all observed counts to offset for unobserved values.\n",
        "\n",
        "- Backoff Smoothing\n",
        "    Another smoothing technique is to interpolate between n-grams for missing data. This method is more effective than Laplace smoothing at combatting the data sparsity problem. Refer to chapters 4, 9, and 10 of the [Speech & Language Processing](https://web.stanford.edu/~jurafsky/slp3/) book for more information.\n",
        "\n",
        "- Extending to Trigrams\n",
        "    HMM taggers have achieved better than 96% accuracy on this dataset with the full Penn treebank tagset using an architecture described in [this](http://www.coli.uni-saarland.de/~thorsten/publications/Brants-ANLP00.pdf) paper. Altering your HMM to achieve the same performance would require implementing deleted interpolation (described in the paper), incorporating trigram probabilities in your frequency tables, and re-implementing the Viterbi algorithm to consider three consecutive states instead of two."
      ]
    }
  ]
}